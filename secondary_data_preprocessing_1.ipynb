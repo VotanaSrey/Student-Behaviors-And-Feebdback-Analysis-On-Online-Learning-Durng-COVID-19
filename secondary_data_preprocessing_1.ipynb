{
 "cells": [
  {
   "cell_type": "markdown",
   "metadata": {},
   "source": [
    "<h1 style='color:#15284C; font-size:30px'><center>Project Thesis - Secondary Data</center></h1>"
   ]
  },
  {
   "cell_type": "markdown",
   "metadata": {},
   "source": [
    "<h3 style='color:#15284C;'><center> Secondary Data </center></h3>"
   ]
  },
  {
   "cell_type": "markdown",
   "metadata": {},
   "source": [
    "<h3 style='color:#15284C;'> Import Dependencies </h3>"
   ]
  },
  {
   "cell_type": "code",
   "execution_count": 1,
   "metadata": {},
   "outputs": [],
   "source": [
    "#array ,linear algebra, fourier transform, and matrices.\n",
    "import numpy as np\n",
    "# merging, reshaping, selecting, as well as data cleaning, and data wrangling features.\n",
    "import pandas as pd\n",
    "#data visulization\n",
    "import seaborn as sns\n",
    "import matplotlib.pyplot as plt\n",
    "import plotly\n",
    "#importing databse\n",
    "import sqlite3\n",
    "\n",
    "#regular expression\n",
    "import re\n",
    "%matplotlib inline \n",
    "\n",
    "#natural language processing library\n",
    "import nltk\n",
    "\n",
    "#lemmatization\n",
    "from nltk.stem import WordNetLemmatizer\n",
    "#stemming\n",
    "from nltk.stem import PorterStemmer\n",
    "#word tokenization\n",
    "from nltk import word_tokenize\n",
    "#sentence tokenization\n",
    "from nltk import sent_tokenize\n",
    "\n",
    "#part of speect tagging\n",
    "from nltk import pos_tag\n",
    "\n",
    "#remove stop word in english\n",
    "from nltk.corpus import stopwords\n",
    "from wordcloud import WordCloud, STOPWORDS\n",
    "#library to remove punctuation\n",
    "\n",
    "#string\n",
    "import string\n",
    "\n",
    "#Sentiment Analysis \n",
    "from textblob import TextBlob\n",
    "\n",
    "#emojiii\n",
    "import emoji\n",
    "#box plot in feedback analysis\n",
    "import plotly.express as px\n",
    "\n",
    "#implement data preprocessing and train the model\n",
    "from sklearn.feature_extraction.text import TfidfVectorizer\n",
    "from sklearn.model_selection import train_test_split\n",
    "from nltk.corpus import stopwords\n",
    "from sklearn.metrics import roc_auc_score\n",
    "from sklearn import naive_bayes"
   ]
  },
  {
   "cell_type": "markdown",
   "metadata": {},
   "source": [
    "<h3 style='color:#15284C;'> Load Dataset </h3>"
   ]
  },
  {
   "cell_type": "code",
   "execution_count": 2,
   "metadata": {},
   "outputs": [],
   "source": [
    "#read dataset\n",
    "data = pd.read_excel('dataset/secondary_data_1.xlsx')\n",
    "pd.set_option('display.max_columns', None)"
   ]
  },
  {
   "cell_type": "code",
   "execution_count": 3,
   "metadata": {},
   "outputs": [
    {
     "name": "stdout",
     "output_type": "stream",
     "text": [
      "Number of Features:  12\n",
      "***********************************\n",
      "Number of Samples:  185\n"
     ]
    }
   ],
   "source": [
    "print('Number of Features: ', data.shape[1])\n",
    "print(\"***********************************\")\n",
    "print('Number of Samples: ', data.shape[0])"
   ]
  },
  {
   "cell_type": "code",
   "execution_count": 3,
   "metadata": {},
   "outputs": [
    {
     "data": {
      "text/html": [
       "<div>\n",
       "<style scoped>\n",
       "    .dataframe tbody tr th:only-of-type {\n",
       "        vertical-align: middle;\n",
       "    }\n",
       "\n",
       "    .dataframe tbody tr th {\n",
       "        vertical-align: top;\n",
       "    }\n",
       "\n",
       "    .dataframe thead th {\n",
       "        text-align: right;\n",
       "    }\n",
       "</style>\n",
       "<table border=\"1\" class=\"dataframe\">\n",
       "  <thead>\n",
       "    <tr style=\"text-align: right;\">\n",
       "      <th></th>\n",
       "      <th>teaching</th>\n",
       "      <th>teaching.1</th>\n",
       "      <th>coursecontent</th>\n",
       "      <th>coursecontent.1</th>\n",
       "      <th>examination</th>\n",
       "      <th>Examination</th>\n",
       "      <th>labwork</th>\n",
       "      <th>labwork.1</th>\n",
       "      <th>library_facilities</th>\n",
       "      <th>library_facilities</th>\n",
       "      <th>extracurricular</th>\n",
       "      <th>extracurricular.1</th>\n",
       "    </tr>\n",
       "  </thead>\n",
       "  <tbody>\n",
       "    <tr>\n",
       "      <th>180</th>\n",
       "      <td>1</td>\n",
       "      <td>intraction is good and leacture delivery also ...</td>\n",
       "      <td>0.0</td>\n",
       "      <td>every one can tell depth of course but some on...</td>\n",
       "      <td>NaN</td>\n",
       "      <td>exam pattern is good and marks distribution is...</td>\n",
       "      <td>1</td>\n",
       "      <td>all labs and practical going on well</td>\n",
       "      <td>NaN</td>\n",
       "      <td>good</td>\n",
       "      <td>1</td>\n",
       "      <td>they all are held in super</td>\n",
       "    </tr>\n",
       "    <tr>\n",
       "      <th>181</th>\n",
       "      <td>1</td>\n",
       "      <td>all the given terms are good regarding the uni...</td>\n",
       "      <td>1.0</td>\n",
       "      <td>we are getting maximum knowledge</td>\n",
       "      <td>1.0</td>\n",
       "      <td>all are good</td>\n",
       "      <td>1</td>\n",
       "      <td>not bad</td>\n",
       "      <td>-1.0</td>\n",
       "      <td>library facilities are not good.They are not f...</td>\n",
       "      <td>1</td>\n",
       "      <td>good</td>\n",
       "    </tr>\n",
       "    <tr>\n",
       "      <th>182</th>\n",
       "      <td>1</td>\n",
       "      <td>All the terms are good regarding the universit...</td>\n",
       "      <td>1.0</td>\n",
       "      <td>Knowledge is maximum gained  by reading books ...</td>\n",
       "      <td>0.0</td>\n",
       "      <td>The examination pattern is good .But time is n...</td>\n",
       "      <td>1</td>\n",
       "      <td>Labs are upto the mark.</td>\n",
       "      <td>1.0</td>\n",
       "      <td>They are good</td>\n",
       "      <td>1</td>\n",
       "      <td>the extracurricular activities held in univers...</td>\n",
       "    </tr>\n",
       "    <tr>\n",
       "      <th>183</th>\n",
       "      <td>-1</td>\n",
       "      <td>Some of the teacher are un experienced. Also t...</td>\n",
       "      <td>0.0</td>\n",
       "      <td>Its fine but it should focus more towards prac...</td>\n",
       "      <td>1.0</td>\n",
       "      <td>MCQ pattern is quite good and efficient way fo...</td>\n",
       "      <td>-1</td>\n",
       "      <td>Our labs do not have all facalities.</td>\n",
       "      <td>1.0</td>\n",
       "      <td>We have a good library with all facalities.</td>\n",
       "      <td>1</td>\n",
       "      <td>Our university has lot of extracurricular goin...</td>\n",
       "    </tr>\n",
       "    <tr>\n",
       "      <th>184</th>\n",
       "      <td>1</td>\n",
       "      <td>IT IS GOING GOOD</td>\n",
       "      <td>-1.0</td>\n",
       "      <td>HAVE TO IMPROVE</td>\n",
       "      <td>0.0</td>\n",
       "      <td>PAPER CHECKING IS VERY HARD REMAINING IS GOOD</td>\n",
       "      <td>1</td>\n",
       "      <td>ALL PRACTICAL WORK IS GOOD</td>\n",
       "      <td>-1.0</td>\n",
       "      <td>THEY IS NO PROBLEM WITH THEM\\n</td>\n",
       "      <td>1</td>\n",
       "      <td>IT IS THE BEST THING IN THIS UNIVERSITY I LIKE IT</td>\n",
       "    </tr>\n",
       "  </tbody>\n",
       "</table>\n",
       "</div>"
      ],
      "text/plain": [
       "     teaching                                         teaching.1  \\\n",
       "180         1  intraction is good and leacture delivery also ...   \n",
       "181         1  all the given terms are good regarding the uni...   \n",
       "182         1  All the terms are good regarding the universit...   \n",
       "183        -1  Some of the teacher are un experienced. Also t...   \n",
       "184         1                                   IT IS GOING GOOD   \n",
       "\n",
       "     coursecontent                                    coursecontent.1  \\\n",
       "180            0.0  every one can tell depth of course but some on...   \n",
       "181            1.0                  we are getting maximum knowledge    \n",
       "182            1.0  Knowledge is maximum gained  by reading books ...   \n",
       "183            0.0  Its fine but it should focus more towards prac...   \n",
       "184           -1.0                                    HAVE TO IMPROVE   \n",
       "\n",
       "     examination                                        Examination  labwork  \\\n",
       "180          NaN  exam pattern is good and marks distribution is...        1   \n",
       "181          1.0                                      all are good         1   \n",
       "182          0.0  The examination pattern is good .But time is n...        1   \n",
       "183          1.0  MCQ pattern is quite good and efficient way fo...       -1   \n",
       "184          0.0      PAPER CHECKING IS VERY HARD REMAINING IS GOOD        1   \n",
       "\n",
       "                                 labwork.1  library_facilities  \\\n",
       "180   all labs and practical going on well                 NaN   \n",
       "181                                not bad                -1.0   \n",
       "182                Labs are upto the mark.                 1.0   \n",
       "183  Our labs do not have all facalities.                  1.0   \n",
       "184             ALL PRACTICAL WORK IS GOOD                -1.0   \n",
       "\n",
       "                                    library_facilities  extracurricular  \\\n",
       "180                                              good                 1   \n",
       "181  library facilities are not good.They are not f...                1   \n",
       "182                                      They are good                1   \n",
       "183        We have a good library with all facalities.                1   \n",
       "184                     THEY IS NO PROBLEM WITH THEM\\n                1   \n",
       "\n",
       "                                     extracurricular.1  \n",
       "180                         they all are held in super  \n",
       "181                                               good  \n",
       "182  the extracurricular activities held in univers...  \n",
       "183  Our university has lot of extracurricular goin...  \n",
       "184  IT IS THE BEST THING IN THIS UNIVERSITY I LIKE IT  "
      ]
     },
     "execution_count": 3,
     "metadata": {},
     "output_type": "execute_result"
    }
   ],
   "source": [
    "#check data\n",
    "data.tail(5)"
   ]
  },
  {
   "cell_type": "code",
   "execution_count": null,
   "metadata": {},
   "outputs": [],
   "source": []
  },
  {
   "cell_type": "code",
   "execution_count": 4,
   "metadata": {},
   "outputs": [
    {
     "data": {
      "text/html": [
       "<div>\n",
       "<style scoped>\n",
       "    .dataframe tbody tr th:only-of-type {\n",
       "        vertical-align: middle;\n",
       "    }\n",
       "\n",
       "    .dataframe tbody tr th {\n",
       "        vertical-align: top;\n",
       "    }\n",
       "\n",
       "    .dataframe thead th {\n",
       "        text-align: right;\n",
       "    }\n",
       "</style>\n",
       "<table border=\"1\" class=\"dataframe\">\n",
       "  <thead>\n",
       "    <tr style=\"text-align: right;\">\n",
       "      <th></th>\n",
       "      <th>teaching.1</th>\n",
       "    </tr>\n",
       "  </thead>\n",
       "  <tbody>\n",
       "    <tr>\n",
       "      <th>0</th>\n",
       "      <td>teacher are punctual but they should also give...</td>\n",
       "    </tr>\n",
       "    <tr>\n",
       "      <th>1</th>\n",
       "      <td>Good</td>\n",
       "    </tr>\n",
       "    <tr>\n",
       "      <th>2</th>\n",
       "      <td>Excellent lectures are delivered by teachers a...</td>\n",
       "    </tr>\n",
       "    <tr>\n",
       "      <th>3</th>\n",
       "      <td>Good</td>\n",
       "    </tr>\n",
       "    <tr>\n",
       "      <th>4</th>\n",
       "      <td>teachers give us all the information required ...</td>\n",
       "    </tr>\n",
       "  </tbody>\n",
       "</table>\n",
       "</div>"
      ],
      "text/plain": [
       "                                          teaching.1\n",
       "0  teacher are punctual but they should also give...\n",
       "1                                              Good \n",
       "2  Excellent lectures are delivered by teachers a...\n",
       "3                                               Good\n",
       "4  teachers give us all the information required ..."
      ]
     },
     "execution_count": 4,
     "metadata": {},
     "output_type": "execute_result"
    }
   ],
   "source": [
    "data = data[['teaching.1']]\n",
    "data.head()"
   ]
  },
  {
   "cell_type": "markdown",
   "metadata": {},
   "source": [
    "<h3 style='color:#15284C;'> Data Preprocessing </h3>"
   ]
  },
  {
   "cell_type": "code",
   "execution_count": 5,
   "metadata": {},
   "outputs": [],
   "source": [
    "#rename the columns\n",
    "data.rename(columns={\n",
    "    'teaching.1':'feedback'\n",
    "}, inplace=True)"
   ]
  },
  {
   "cell_type": "code",
   "execution_count": 6,
   "metadata": {},
   "outputs": [
    {
     "name": "stdout",
     "output_type": "stream",
     "text": [
      "feedback\n"
     ]
    }
   ],
   "source": [
    "#check features name\n",
    "for i in data.columns:\n",
    "    print(i)"
   ]
  },
  {
   "cell_type": "code",
   "execution_count": 7,
   "metadata": {},
   "outputs": [
    {
     "name": "stdout",
     "output_type": "stream",
     "text": [
      "<class 'pandas.core.frame.DataFrame'>\n",
      "RangeIndex: 185 entries, 0 to 184\n",
      "Data columns (total 1 columns):\n",
      " #   Column    Non-Null Count  Dtype \n",
      "---  ------    --------------  ----- \n",
      " 0   feedback  185 non-null    object\n",
      "dtypes: object(1)\n",
      "memory usage: 1.6+ KB\n"
     ]
    }
   ],
   "source": [
    "#check data info\n",
    "data.info()"
   ]
  },
  {
   "cell_type": "code",
   "execution_count": 8,
   "metadata": {},
   "outputs": [
    {
     "data": {
      "text/plain": [
       "feedback    0\n",
       "dtype: int64"
      ]
     },
     "execution_count": 8,
     "metadata": {},
     "output_type": "execute_result"
    }
   ],
   "source": [
    "#sum the dataset is null \n",
    "data.isnull().sum()"
   ]
  },
  {
   "cell_type": "code",
   "execution_count": 9,
   "metadata": {},
   "outputs": [
    {
     "data": {
      "image/png": "[encoded data removed]",
      "text/plain": [
       "<Figure size 1080x360 with 1 Axes>"
      ]
     },
     "metadata": {
      "needs_background": "light"
     },
     "output_type": "display_data"
    }
   ],
   "source": [
    "#check data null ft heatmap\n",
    "plt.figure(figsize=(15,5))\n",
    "sns.heatmap(data.isnull(), cbar=False)\n",
    "plt.xticks(rotation='80')\n",
    "plt.show()"
   ]
  },
  {
   "cell_type": "code",
   "execution_count": 10,
   "metadata": {},
   "outputs": [
    {
     "name": "stdout",
     "output_type": "stream",
     "text": [
      "************************************************************************************************************\n",
      "Duplicated values, there are:  58\n",
      "************************************************************************************************************\n"
     ]
    }
   ],
   "source": [
    "#check duplicates values number\n",
    "def check_duplicate_values(data):\n",
    "    print(\"**\"*54)\n",
    "    print(\"Duplicated values, there are: \", data.duplicated().sum())\n",
    "    print(\"**\"*54)\n",
    "    \n",
    "#check duplicates values\n",
    "#call above function\n",
    "\n",
    "check_duplicate_values(data)"
   ]
  },
  {
   "cell_type": "code",
   "execution_count": 11,
   "metadata": {},
   "outputs": [],
   "source": [
    "#drop duplicates values in sample data\n",
    "data.drop_duplicates(keep=False, inplace=True)"
   ]
  },
  {
   "cell_type": "code",
   "execution_count": 14,
   "metadata": {},
   "outputs": [],
   "source": [
    "#define a variable and copy dataset\n",
    "df_sent = data['feedback']"
   ]
  },
  {
   "cell_type": "code",
   "execution_count": 15,
   "metadata": {},
   "outputs": [],
   "source": [
    "#drop null values\n",
    "df_sent.dropna(inplace=True)"
   ]
  },
  {
   "cell_type": "code",
   "execution_count": 16,
   "metadata": {},
   "outputs": [
    {
     "data": {
      "text/plain": [
       "0"
      ]
     },
     "execution_count": 16,
     "metadata": {},
     "output_type": "execute_result"
    }
   ],
   "source": [
    "#check the number of missing values\n",
    "df_sent.isnull().sum()"
   ]
  },
  {
   "cell_type": "code",
   "execution_count": 17,
   "metadata": {},
   "outputs": [
    {
     "data": {
      "text/plain": [
       "pandas.core.series.Series"
      ]
     },
     "execution_count": 17,
     "metadata": {},
     "output_type": "execute_result"
    }
   ],
   "source": [
    "type(df_sent)"
   ]
  },
  {
   "cell_type": "code",
   "execution_count": 18,
   "metadata": {},
   "outputs": [],
   "source": [
    "#convert to dataframe\n",
    "df_sent = pd.DataFrame(df_sent)"
   ]
  },
  {
   "cell_type": "code",
   "execution_count": 19,
   "metadata": {},
   "outputs": [
    {
     "data": {
      "text/plain": [
       "pandas.core.frame.DataFrame"
      ]
     },
     "execution_count": 19,
     "metadata": {},
     "output_type": "execute_result"
    }
   ],
   "source": [
    "type(df_sent)"
   ]
  },
  {
   "cell_type": "code",
   "execution_count": 20,
   "metadata": {},
   "outputs": [],
   "source": [
    "# Loading dictionary of smilies\n",
    "def load_dict_smileys():\n",
    " \n",
    " return {\n",
    " \":-)\": \"smiley\",\n",
    " \":)\" : \"smiley\",\n",
    " \":D\": \"smiley\",\n",
    " \"xD\": \"smiley\",\n",
    " \":’)\" : \"smiley\",\n",
    " \":’D\" : \"smiley\",\n",
    " \":3\" : \"smiley\",\n",
    " \":]\" : \"smiley\",\n",
    " \":^)\" : \"smiley\",\n",
    " \":-]\" : \"smiley\",\n",
    " \":-3\" : \"smiley\",\n",
    " \":->\" : \"smiley\",\n",
    " \":))\" : \"smiley\",\n",
    " \"8-)\" : \"cool\",\n",
    " \"8)\" : \"cool\",\n",
    " \"8-D\" : \"cool\",\n",
    " \"B)\" : \"cool\",\n",
    " \"BD\" : \"cool\",\n",
    " \":-}\": \"smiley\",\n",
    " \":>\" : \"smiley\",\n",
    " \":}\" : \"smiley\",\n",
    " \":o)\" : \"smiley\",\n",
    " \":c)\" : \"smiley\",\n",
    " \"=)\" : \"smiley\",\n",
    " \"=D\" : \"smiley\",\n",
    " \"=]\" : \"smiley\",\n",
    " \":-D\" : \"smiley\",\n",
    " \"XD\" : \"smiley\",\n",
    " \":o\" : \"surprised\",\n",
    " \":O\" : \"surprised\",\n",
    " \"=o\" : \"surprised\",\n",
    " \"=O\" : \"surprised\",\n",
    " \":0\" : \"surprised\",\n",
    " \":(\" : \"sad\",\n",
    " \":C\" : \"sad\",\n",
    " \":c\" : \"sad\",\n",
    " \"=(\" : \"sad\",\n",
    " \"=c\" : \"sad\",\n",
    " \"=C\" : \"sad\",\n",
    " \":-(\" : \"sad\",\n",
    " \":-c\" : \"sad\",\n",
    " \":-C\" : \"sad\",\n",
    " \":-<\" : \"sad\",\n",
    " \":<\" : \"sad\",\n",
    " \":[\" : \"sad\",\n",
    " \":{\" : \"sad\",\n",
    " \":’(\" : \"crying\",\n",
    " \":P\" : \"playful\",\n",
    " \":p\" : \"playful\",\n",
    " \"xP\" : \"playful\",\n",
    " \"XP\": \"playful\",\n",
    " \"=P\": \"playful\",\n",
    " \"=p\" : \"playful\",\n",
    " \"xp\": \"playful\",\n",
    " \"xb\": \"playful\",\n",
    " \"❤\": \"love\",\n",
    " \"</3\": \"sad\",\n",
    " \":/\": \"worried\",\n",
    " \":-/\" : \"worried\"\n",
    "}"
   ]
  },
  {
   "cell_type": "code",
   "execution_count": 21,
   "metadata": {},
   "outputs": [],
   "source": [
    "#create a function to convert text into lowercase\n",
    "def convert_to_lowercase(text):\n",
    "    text = text.str.lower()\n",
    "    return text\n",
    "\n",
    "cachedStopWords = stopwords.words(\"english\")\n",
    "def remove_stopwords(text):\n",
    "    text = ' '.join([word for word in text.split() if word not in cachedStopWords])\n",
    "    return text\n",
    "\n",
    "\n",
    "#create a function to apply word tokenization\n",
    "def convert_to_word_tokens(text):\n",
    "    text = text.word_tokenize(text)\n",
    "    return text\n",
    "\n",
    "#create a function to apply word tokenization\n",
    "def convert_to_sentence_tokens(text):\n",
    "    text = text.sent_tokenize(text)\n",
    "    return text\n",
    "\n",
    "#create a function to apply word tokenization\n",
    "def convert_to_pos_tagging(text):\n",
    "    text = text.pos_tag(text)\n",
    "    return text\n",
    "\n",
    "#calculate word length\n",
    "def text_length_calculation(text):\n",
    "    return len(text.split(' '))\n",
    "    \n",
    "#remove space\n",
    "def remove_space(series):\n",
    "    series.replace(\" \", \"\", inplace=True)\n",
    "    \n",
    "            \n",
    "#function to clean the word of any html-tags\n",
    "def remove_html(sentence): \n",
    "    clean = re.compile('<.*?>')\n",
    "    clean_text = re.sub(clean, ' ', sentence)\n",
    "    return clean_text\n",
    "\n",
    "#remove url from text\n",
    "def remove_urls(text):\n",
    "    url_pattern = re.compile(r'href|http.\\w+')\n",
    "    return url_pattern.sub(r'', text)\n",
    "\n",
    "def remove_abbreviations(text):\n",
    "    tokens = text.split(\" \")\n",
    "    j = 0\n",
    "    for token in tokens:\n",
    "        file_name = \"<path to CSV file>\"\n",
    "        with open(file_name, \"r\") as fh:\n",
    "            reader = csv.reader(fh)\n",
    "            for row in reader:\n",
    "                if row[0] == token:\n",
    "                    tokens[j] = row[1]\n",
    "                    fh.close()\n",
    "                    j = j + 1\n",
    "    return \"\".join(tokens)\n",
    "\n",
    "# Removing smilies and emojis\n",
    "def remove_emoticons(text):\n",
    "    smilies = load_dict_smileys()\n",
    "    split_tweet = text.split(\" \")\n",
    "    for key,val in smilies.items():\n",
    "        if key in text:\n",
    "            new_tweet = text.replace(key, val)\n",
    "            text = new_tweet\n",
    "            text = emoji.demojize(text)\n",
    "            text = ' '.join(text.split())\n",
    "    return text\n",
    "\n",
    "def preprocess(text, stem=False):\n",
    "    # Remove link,user and special characters\n",
    "    text = re.sub(TEXT_CLEANING_RE, ' ', str(text).lower()).strip()\n",
    "    tokens = []\n",
    "    for token in text.split():\n",
    "        if token not in stop_words:\n",
    "            if stem:\n",
    "                tokens.append(stemmer.stem(token))\n",
    "            else:\n",
    "                tokens.append(token)\n",
    "    return \" \".join(tokens)"
   ]
  },
  {
   "cell_type": "code",
   "execution_count": 22,
   "metadata": {},
   "outputs": [],
   "source": [
    "#create a function to remove punctuation\n",
    "def remove_punctuation(text):\n",
    "    text = re.sub('\\[.*?\\]', '', str(text))\n",
    "    text = re.sub('[%s]' % re.escape(string.punctuation),'', str(text))\n",
    "    text = re.sub('\\w*\\d\\w*', '', str(text))\n",
    "    text = re.sub('[‘’“”…]', '', str(text))\n",
    "    text = re.sub('\\n', '', str(text))\n",
    "    return text\n",
    "remove_pun = lambda x: remove_punctuation(x)"
   ]
  },
  {
   "cell_type": "code",
   "execution_count": 23,
   "metadata": {},
   "outputs": [],
   "source": [
    "#remove white space from series of the dataset\n",
    "remove_space(df_sent.feedback)"
   ]
  },
  {
   "cell_type": "code",
   "execution_count": 24,
   "metadata": {},
   "outputs": [],
   "source": [
    "#convert to lowercase\n",
    "df_sent['feedback'] = convert_to_lowercase(df_sent.feedback)"
   ]
  },
  {
   "cell_type": "code",
   "execution_count": 25,
   "metadata": {},
   "outputs": [],
   "source": [
    "#remove Punctuation\n",
    "\n",
    "#********************************************************************************************************\n",
    "#it spends much time to run\n",
    "#********************************************************************************************************\n",
    "df_sent['feedback'] = df_sent['feedback'].apply(lambda x: remove_punctuation(x))"
   ]
  },
  {
   "cell_type": "code",
   "execution_count": 26,
   "metadata": {},
   "outputs": [],
   "source": [
    "#remove stopword\n",
    "#It takes much time to run.\n",
    "df_sent.feedback = df_sent.feedback.apply(remove_stopwords)"
   ]
  },
  {
   "cell_type": "code",
   "execution_count": 27,
   "metadata": {},
   "outputs": [],
   "source": [
    "#remove smilies\n",
    "\n",
    "#********************************************************************************************************\n",
    "#it spends much time \n",
    "#********************************************************************************************************\n",
    "df_sent['feedback'] = df_sent['feedback'].apply(lambda x: remove_emoticons(x))"
   ]
  },
  {
   "cell_type": "code",
   "execution_count": 28,
   "metadata": {},
   "outputs": [],
   "source": [
    "#calculate review and summanry lengthd\n",
    "df_sent['feedback_length']= df_sent['feedback'].apply(text_length_calculation)"
   ]
  },
  {
   "cell_type": "code",
   "execution_count": 29,
   "metadata": {},
   "outputs": [
    {
     "data": {
      "image/png": "[encoded data removed]",
      "text/plain": [
       "<Figure size 720x432 with 1 Axes>"
      ]
     },
     "metadata": {
      "needs_background": "light"
     },
     "output_type": "display_data"
    }
   ],
   "source": [
    "#check outlier of the text length\n",
    "f, axes = plt.subplots(ncols=1, figsize=(10, 6))\n",
    "\n",
    "sns.boxplot(y=df_sent['feedback_length'] ,color='grey')\n",
    "plt.show()\n"
   ]
  },
  {
   "cell_type": "code",
   "execution_count": 30,
   "metadata": {},
   "outputs": [
    {
     "data": {
      "text/plain": [
       "(117, 2)"
      ]
     },
     "execution_count": 30,
     "metadata": {},
     "output_type": "execute_result"
    }
   ],
   "source": [
    "df_sent.shape"
   ]
  },
  {
   "cell_type": "code",
   "execution_count": 31,
   "metadata": {},
   "outputs": [
    {
     "data": {
      "text/html": [
       "<div>\n",
       "<style scoped>\n",
       "    .dataframe tbody tr th:only-of-type {\n",
       "        vertical-align: middle;\n",
       "    }\n",
       "\n",
       "    .dataframe tbody tr th {\n",
       "        vertical-align: top;\n",
       "    }\n",
       "\n",
       "    .dataframe thead th {\n",
       "        text-align: right;\n",
       "    }\n",
       "</style>\n",
       "<table border=\"1\" class=\"dataframe\">\n",
       "  <thead>\n",
       "    <tr style=\"text-align: right;\">\n",
       "      <th></th>\n",
       "      <th>feedback</th>\n",
       "      <th>feedback_length</th>\n",
       "    </tr>\n",
       "  </thead>\n",
       "  <tbody>\n",
       "    <tr>\n",
       "      <th>0</th>\n",
       "      <td>teacher punctual also give us practical knowle...</td>\n",
       "      <td>8</td>\n",
       "    </tr>\n",
       "    <tr>\n",
       "      <th>2</th>\n",
       "      <td>excellent lectures delivered teachers teachers...</td>\n",
       "      <td>6</td>\n",
       "    </tr>\n",
       "    <tr>\n",
       "      <th>4</th>\n",
       "      <td>teachers give us information required improve ...</td>\n",
       "      <td>7</td>\n",
       "    </tr>\n",
       "    <tr>\n",
       "      <th>5</th>\n",
       "      <td>yes</td>\n",
       "      <td>1</td>\n",
       "    </tr>\n",
       "    <tr>\n",
       "      <th>6</th>\n",
       "      <td>good punctual</td>\n",
       "      <td>2</td>\n",
       "    </tr>\n",
       "  </tbody>\n",
       "</table>\n",
       "</div>"
      ],
      "text/plain": [
       "                                            feedback  feedback_length\n",
       "0  teacher punctual also give us practical knowle...                8\n",
       "2  excellent lectures delivered teachers teachers...                6\n",
       "4  teachers give us information required improve ...                7\n",
       "5                                                yes                1\n",
       "6                                      good punctual                2"
      ]
     },
     "execution_count": 31,
     "metadata": {},
     "output_type": "execute_result"
    }
   ],
   "source": [
    "df_sent.head()"
   ]
  },
  {
   "cell_type": "code",
   "execution_count": 32,
   "metadata": {},
   "outputs": [],
   "source": [
    "#we use textblob python library to calculate the palority values of text\n",
    "\n",
    "#call sentitment_polarity\n",
    "polarity=[]\n",
    "for i in df_sent['feedback']:\n",
    "    try:\n",
    "        polarity.append(TextBlob(i).sentiment.polarity)\n",
    "    except:\n",
    "        polarity.append(0)"
   ]
  },
  {
   "cell_type": "code",
   "execution_count": 33,
   "metadata": {},
   "outputs": [],
   "source": [
    "#insert the polarity values as a column\n",
    "df_sent['polarity'] = polarity "
   ]
  },
  {
   "cell_type": "code",
   "execution_count": 34,
   "metadata": {},
   "outputs": [],
   "source": [
    "#check the sentment values\n",
    "#if the polarity > 0 : Positive\n",
    "#else the polarity < = : Negative\n",
    "positive_sent = df_sent[df_sent['polarity'] >= 0]\n",
    "negative_sent = df_sent[df_sent['polarity'] < 0]"
   ]
  },
  {
   "cell_type": "code",
   "execution_count": 35,
   "metadata": {},
   "outputs": [],
   "source": [
    "#define the label of sentiment\n",
    "df_sent['sentiment'] = df_sent['polarity'].apply(lambda x : 1 if x < 0 else 0)"
   ]
  },
  {
   "cell_type": "code",
   "execution_count": 36,
   "metadata": {},
   "outputs": [
    {
     "name": "stdout",
     "output_type": "stream",
     "text": [
      "**************************************************\n",
      "Positive Sentiment:  (110, 3)\n",
      "Negative Sentiment:  (7, 3)\n",
      "**************************************************\n"
     ]
    }
   ],
   "source": [
    "#check the values of sentiment\n",
    "print(\"*\" * 50)\n",
    "print(\"Positive Sentiment: \", positive_sent.shape)\n",
    "print(\"Negative Sentiment: \", negative_sent.shape)\n",
    "print(\"*\" * 50)"
   ]
  },
  {
   "cell_type": "code",
   "execution_count": 37,
   "metadata": {},
   "outputs": [
    {
     "data": {
      "text/html": [
       "<div>\n",
       "<style scoped>\n",
       "    .dataframe tbody tr th:only-of-type {\n",
       "        vertical-align: middle;\n",
       "    }\n",
       "\n",
       "    .dataframe tbody tr th {\n",
       "        vertical-align: top;\n",
       "    }\n",
       "\n",
       "    .dataframe thead th {\n",
       "        text-align: right;\n",
       "    }\n",
       "</style>\n",
       "<table border=\"1\" class=\"dataframe\">\n",
       "  <thead>\n",
       "    <tr style=\"text-align: right;\">\n",
       "      <th></th>\n",
       "      <th>feedback</th>\n",
       "      <th>feedback_length</th>\n",
       "      <th>polarity</th>\n",
       "      <th>sentiment</th>\n",
       "    </tr>\n",
       "  </thead>\n",
       "  <tbody>\n",
       "    <tr>\n",
       "      <th>0</th>\n",
       "      <td>teacher punctual also give us practical knowle...</td>\n",
       "      <td>8</td>\n",
       "      <td>0.00</td>\n",
       "      <td>0</td>\n",
       "    </tr>\n",
       "    <tr>\n",
       "      <th>2</th>\n",
       "      <td>excellent lectures delivered teachers teachers...</td>\n",
       "      <td>6</td>\n",
       "      <td>1.00</td>\n",
       "      <td>0</td>\n",
       "    </tr>\n",
       "    <tr>\n",
       "      <th>4</th>\n",
       "      <td>teachers give us information required improve ...</td>\n",
       "      <td>7</td>\n",
       "      <td>0.00</td>\n",
       "      <td>0</td>\n",
       "    </tr>\n",
       "    <tr>\n",
       "      <th>5</th>\n",
       "      <td>yes</td>\n",
       "      <td>1</td>\n",
       "      <td>0.00</td>\n",
       "      <td>0</td>\n",
       "    </tr>\n",
       "    <tr>\n",
       "      <th>6</th>\n",
       "      <td>good punctual</td>\n",
       "      <td>2</td>\n",
       "      <td>0.70</td>\n",
       "      <td>0</td>\n",
       "    </tr>\n",
       "    <tr>\n",
       "      <th>7</th>\n",
       "      <td>good</td>\n",
       "      <td>1</td>\n",
       "      <td>0.70</td>\n",
       "      <td>0</td>\n",
       "    </tr>\n",
       "    <tr>\n",
       "      <th>10</th>\n",
       "      <td>good compare btech lectures teaching activities</td>\n",
       "      <td>6</td>\n",
       "      <td>0.70</td>\n",
       "      <td>0</td>\n",
       "    </tr>\n",
       "    <tr>\n",
       "      <th>12</th>\n",
       "      <td>way teaching good</td>\n",
       "      <td>3</td>\n",
       "      <td>0.70</td>\n",
       "      <td>0</td>\n",
       "    </tr>\n",
       "    <tr>\n",
       "      <th>13</th>\n",
       "      <td>university teaching much dependent upon slides...</td>\n",
       "      <td>22</td>\n",
       "      <td>0.35</td>\n",
       "      <td>0</td>\n",
       "    </tr>\n",
       "    <tr>\n",
       "      <th>16</th>\n",
       "      <td>compared colleges university university perfec...</td>\n",
       "      <td>6</td>\n",
       "      <td>1.00</td>\n",
       "      <td>0</td>\n",
       "    </tr>\n",
       "  </tbody>\n",
       "</table>\n",
       "</div>"
      ],
      "text/plain": [
       "                                             feedback  feedback_length  \\\n",
       "0   teacher punctual also give us practical knowle...                8   \n",
       "2   excellent lectures delivered teachers teachers...                6   \n",
       "4   teachers give us information required improve ...                7   \n",
       "5                                                 yes                1   \n",
       "6                                       good punctual                2   \n",
       "7                                                good                1   \n",
       "10    good compare btech lectures teaching activities                6   \n",
       "12                                  way teaching good                3   \n",
       "13  university teaching much dependent upon slides...               22   \n",
       "16  compared colleges university university perfec...                6   \n",
       "\n",
       "    polarity  sentiment  \n",
       "0       0.00          0  \n",
       "2       1.00          0  \n",
       "4       0.00          0  \n",
       "5       0.00          0  \n",
       "6       0.70          0  \n",
       "7       0.70          0  \n",
       "10      0.70          0  \n",
       "12      0.70          0  \n",
       "13      0.35          0  \n",
       "16      1.00          0  "
      ]
     },
     "execution_count": 37,
     "metadata": {},
     "output_type": "execute_result"
    }
   ],
   "source": [
    "df_sent.head(10)"
   ]
  },
  {
   "cell_type": "code",
   "execution_count": 38,
   "metadata": {},
   "outputs": [],
   "source": [
    "#drop the polarity feature\n",
    "df_sent.drop(['polarity', 'feedback_length'], axis=1, inplace=True)"
   ]
  },
  {
   "cell_type": "code",
   "execution_count": 39,
   "metadata": {},
   "outputs": [
    {
     "data": {
      "text/html": [
       "<div>\n",
       "<style scoped>\n",
       "    .dataframe tbody tr th:only-of-type {\n",
       "        vertical-align: middle;\n",
       "    }\n",
       "\n",
       "    .dataframe tbody tr th {\n",
       "        vertical-align: top;\n",
       "    }\n",
       "\n",
       "    .dataframe thead th {\n",
       "        text-align: right;\n",
       "    }\n",
       "</style>\n",
       "<table border=\"1\" class=\"dataframe\">\n",
       "  <thead>\n",
       "    <tr style=\"text-align: right;\">\n",
       "      <th></th>\n",
       "      <th>feedback</th>\n",
       "      <th>sentiment</th>\n",
       "    </tr>\n",
       "  </thead>\n",
       "  <tbody>\n",
       "    <tr>\n",
       "      <th>0</th>\n",
       "      <td>teacher punctual also give us practical knowle...</td>\n",
       "      <td>0</td>\n",
       "    </tr>\n",
       "    <tr>\n",
       "      <th>2</th>\n",
       "      <td>excellent lectures delivered teachers teachers...</td>\n",
       "      <td>0</td>\n",
       "    </tr>\n",
       "    <tr>\n",
       "      <th>4</th>\n",
       "      <td>teachers give us information required improve ...</td>\n",
       "      <td>0</td>\n",
       "    </tr>\n",
       "    <tr>\n",
       "      <th>5</th>\n",
       "      <td>yes</td>\n",
       "      <td>0</td>\n",
       "    </tr>\n",
       "    <tr>\n",
       "      <th>6</th>\n",
       "      <td>good punctual</td>\n",
       "      <td>0</td>\n",
       "    </tr>\n",
       "  </tbody>\n",
       "</table>\n",
       "</div>"
      ],
      "text/plain": [
       "                                            feedback  sentiment\n",
       "0  teacher punctual also give us practical knowle...          0\n",
       "2  excellent lectures delivered teachers teachers...          0\n",
       "4  teachers give us information required improve ...          0\n",
       "5                                                yes          0\n",
       "6                                      good punctual          0"
      ]
     },
     "execution_count": 39,
     "metadata": {},
     "output_type": "execute_result"
    }
   ],
   "source": [
    "df_sent.head()"
   ]
  },
  {
   "cell_type": "code",
   "execution_count": 49,
   "metadata": {},
   "outputs": [
    {
     "data": {
      "image/png": "[encoded data removed]",
      "text/plain": [
       "<Figure size 1080x360 with 1 Axes>"
      ]
     },
     "metadata": {
      "needs_background": "light"
     },
     "output_type": "display_data"
    }
   ],
   "source": [
    "plt.figure(figsize=(15,5))\n",
    "df_sent.sentiment.value_counts().plot(kind='bar')\n",
    "plt.xticks(rotation='0')\n",
    "plt.show()"
   ]
  },
  {
   "cell_type": "code",
   "execution_count": 50,
   "metadata": {},
   "outputs": [
    {
     "data": {
      "text/html": [
       "<div>\n",
       "<style scoped>\n",
       "    .dataframe tbody tr th:only-of-type {\n",
       "        vertical-align: middle;\n",
       "    }\n",
       "\n",
       "    .dataframe tbody tr th {\n",
       "        vertical-align: top;\n",
       "    }\n",
       "\n",
       "    .dataframe thead th {\n",
       "        text-align: right;\n",
       "    }\n",
       "</style>\n",
       "<table border=\"1\" class=\"dataframe\">\n",
       "  <thead>\n",
       "    <tr style=\"text-align: right;\">\n",
       "      <th></th>\n",
       "      <th>feedback</th>\n",
       "      <th>sentiment</th>\n",
       "    </tr>\n",
       "  </thead>\n",
       "  <tbody>\n",
       "    <tr>\n",
       "      <th>180</th>\n",
       "      <td>intraction good leacture delivery also good pu...</td>\n",
       "      <td>0</td>\n",
       "    </tr>\n",
       "    <tr>\n",
       "      <th>181</th>\n",
       "      <td>given terms good regarding university</td>\n",
       "      <td>0</td>\n",
       "    </tr>\n",
       "    <tr>\n",
       "      <th>182</th>\n",
       "      <td>terms good regarding university activities</td>\n",
       "      <td>0</td>\n",
       "    </tr>\n",
       "    <tr>\n",
       "      <th>183</th>\n",
       "      <td>teacher un eplayfulerienced also unfair baised...</td>\n",
       "      <td>1</td>\n",
       "    </tr>\n",
       "    <tr>\n",
       "      <th>184</th>\n",
       "      <td>going good</td>\n",
       "      <td>0</td>\n",
       "    </tr>\n",
       "  </tbody>\n",
       "</table>\n",
       "</div>"
      ],
      "text/plain": [
       "                                              feedback  sentiment\n",
       "180  intraction good leacture delivery also good pu...          0\n",
       "181              given terms good regarding university          0\n",
       "182         terms good regarding university activities          0\n",
       "183  teacher un eplayfulerienced also unfair baised...          1\n",
       "184                                         going good          0"
      ]
     },
     "execution_count": 50,
     "metadata": {},
     "output_type": "execute_result"
    }
   ],
   "source": [
    "df_sent.tail()"
   ]
  },
  {
   "cell_type": "code",
   "execution_count": 51,
   "metadata": {},
   "outputs": [],
   "source": [
    "#export cleaned dataset\n",
    "df_sent.to_csv('dataset/secondary_cleaned_data_1.csv')"
   ]
  }
 ],
 "metadata": {
  "kernelspec": {
   "display_name": "Python 3",
   "language": "python",
   "name": "python3"
  },
  "language_info": {
   "codemirror_mode": {
    "name": "ipython",
    "version": 3
   },
   "file_extension": ".py",
   "mimetype": "text/x-python",
   "name": "python",
   "nbconvert_exporter": "python",
   "pygments_lexer": "ipython3",
   "version": "3.8.5"
  }
 },
 "nbformat": 4,
 "nbformat_minor": 4
}
