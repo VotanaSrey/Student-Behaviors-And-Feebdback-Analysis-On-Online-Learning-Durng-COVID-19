{
 "cells": [
  {
   "cell_type": "markdown",
   "metadata": {},
   "source": [
    "<h1 style='color:#15284C; font-size:30px'><center>Project Thesis - First Internship</center></h1>"
   ]
  },
  {
   "cell_type": "markdown",
   "metadata": {},
   "source": [
    "<h3 style='color:#15284C;'><center> Support Vector Classification</center></h3>"
   ]
  },
  {
   "cell_type": "markdown",
   "metadata": {},
   "source": [
    "<h3 style='color:#15284C;'> Import Dependencies </h3>"
   ]
  },
  {
   "cell_type": "code",
   "execution_count": 1,
   "metadata": {},
   "outputs": [],
   "source": [
    "#array ,linear algebra, fourier transform, and matrices.\n",
    "import numpy as np\n",
    "# merging, reshaping, selecting, as well as data cleaning, and data wrangling features.\n",
    "import pandas as pd\n",
    "#data visulization\n",
    "import seaborn as sns\n",
    "import matplotlib.pyplot as plt\n",
    "import plotly\n",
    "#importing databse\n",
    "import sqlite3\n",
    "\n",
    "#regular expression\n",
    "import re\n",
    "%matplotlib inline \n",
    "\n",
    "#natural language processing library\n",
    "import nltk\n",
    "\n",
    "#lemmatization\n",
    "from nltk.stem import WordNetLemmatizer\n",
    "#stemming\n",
    "from nltk.stem import PorterStemmer\n",
    "#word tokenization\n",
    "from nltk import word_tokenize\n",
    "#sentence tokenization\n",
    "from nltk import sent_tokenize\n",
    "\n",
    "#part of speect tagging\n",
    "from nltk import pos_tag\n",
    "\n",
    "#remove stop word in english\n",
    "from nltk.corpus import stopwords\n",
    "from wordcloud import WordCloud, STOPWORDS\n",
    "#library to remove punctuation\n",
    "\n",
    "#string\n",
    "import string\n",
    "\n",
    "#Sentiment Analysis \n",
    "from textblob import TextBlob\n",
    "\n",
    "#emojiii\n",
    "import emoji\n",
    "#box plot in feedback analysis\n",
    "import plotly.express as px\n",
    "\n",
    "#implement data preprocessing and train the model\n",
    "from sklearn.feature_extraction.text import TfidfVectorizer\n",
    "from sklearn.model_selection import train_test_split\n",
    "from nltk.corpus import stopwords\n",
    "from sklearn.metrics import roc_auc_score\n",
    "from sklearn import naive_bayes"
   ]
  },
  {
   "cell_type": "markdown",
   "metadata": {},
   "source": [
    "<h3 style='color:#15284C;'>Load Dataset</h3>"
   ]
  },
  {
   "cell_type": "code",
   "execution_count": 2,
   "metadata": {},
   "outputs": [],
   "source": [
    "#read dataset\n",
    "data = pd.read_csv('dataset/last_update_dataset.csv')\n",
    "data1 = pd.read_csv('dataset/secondary_cleaned_data.csv')\n",
    "data2 = pd.read_csv('dataset/secondary_cleaned_data_1.csv')"
   ]
  },
  {
   "cell_type": "code",
   "execution_count": 3,
   "metadata": {},
   "outputs": [],
   "source": [
    "#set full display all features\n",
    "pd.set_option('display.max_columns', None)"
   ]
  },
  {
   "cell_type": "code",
   "execution_count": 4,
   "metadata": {},
   "outputs": [],
   "source": [
    "data1.drop('Unnamed: 0', axis=1, inplace=True)\n",
    "data2.drop('Unnamed: 0', axis=1, inplace=True)"
   ]
  },
  {
   "cell_type": "code",
   "execution_count": 5,
   "metadata": {
    "scrolled": true
   },
   "outputs": [
    {
     "data": {
      "text/html": [
       "<div>\n",
       "<style scoped>\n",
       "    .dataframe tbody tr th:only-of-type {\n",
       "        vertical-align: middle;\n",
       "    }\n",
       "\n",
       "    .dataframe tbody tr th {\n",
       "        vertical-align: top;\n",
       "    }\n",
       "\n",
       "    .dataframe thead th {\n",
       "        text-align: right;\n",
       "    }\n",
       "</style>\n",
       "<table border=\"1\" class=\"dataframe\">\n",
       "  <thead>\n",
       "    <tr style=\"text-align: right;\">\n",
       "      <th></th>\n",
       "      <th>feedback</th>\n",
       "      <th>sentiment</th>\n",
       "    </tr>\n",
       "  </thead>\n",
       "  <tbody>\n",
       "    <tr>\n",
       "      <th>242</th>\n",
       "      <td>much pressure handle</td>\n",
       "      <td>0</td>\n",
       "    </tr>\n",
       "    <tr>\n",
       "      <th>243</th>\n",
       "      <td>none</td>\n",
       "      <td>0</td>\n",
       "    </tr>\n",
       "    <tr>\n",
       "      <th>244</th>\n",
       "      <td>online classes arent able gain students attent...</td>\n",
       "      <td>0</td>\n",
       "    </tr>\n",
       "    <tr>\n",
       "      <th>245</th>\n",
       "      <td>home</td>\n",
       "      <td>0</td>\n",
       "    </tr>\n",
       "    <tr>\n",
       "      <th>246</th>\n",
       "      <td>much interactive</td>\n",
       "      <td>0</td>\n",
       "    </tr>\n",
       "  </tbody>\n",
       "</table>\n",
       "</div>"
      ],
      "text/plain": [
       "                                              feedback  sentiment\n",
       "242                               much pressure handle          0\n",
       "243                                               none          0\n",
       "244  online classes arent able gain students attent...          0\n",
       "245                                               home          0\n",
       "246                                   much interactive          0"
      ]
     },
     "execution_count": 5,
     "metadata": {},
     "output_type": "execute_result"
    }
   ],
   "source": [
    "#check primary data\n",
    "data1.tail(5)"
   ]
  },
  {
   "cell_type": "code",
   "execution_count": 6,
   "metadata": {},
   "outputs": [
    {
     "data": {
      "text/html": [
       "<div>\n",
       "<style scoped>\n",
       "    .dataframe tbody tr th:only-of-type {\n",
       "        vertical-align: middle;\n",
       "    }\n",
       "\n",
       "    .dataframe tbody tr th {\n",
       "        vertical-align: top;\n",
       "    }\n",
       "\n",
       "    .dataframe thead th {\n",
       "        text-align: right;\n",
       "    }\n",
       "</style>\n",
       "<table border=\"1\" class=\"dataframe\">\n",
       "  <thead>\n",
       "    <tr style=\"text-align: right;\">\n",
       "      <th></th>\n",
       "      <th>feedback</th>\n",
       "      <th>sentiment</th>\n",
       "    </tr>\n",
       "  </thead>\n",
       "  <tbody>\n",
       "    <tr>\n",
       "      <th>0</th>\n",
       "      <td>teacher punctual also give us practical knowle...</td>\n",
       "      <td>0</td>\n",
       "    </tr>\n",
       "    <tr>\n",
       "      <th>1</th>\n",
       "      <td>excellent lectures delivered teachers teachers...</td>\n",
       "      <td>0</td>\n",
       "    </tr>\n",
       "    <tr>\n",
       "      <th>2</th>\n",
       "      <td>teachers give us information required improve ...</td>\n",
       "      <td>0</td>\n",
       "    </tr>\n",
       "    <tr>\n",
       "      <th>3</th>\n",
       "      <td>yes</td>\n",
       "      <td>0</td>\n",
       "    </tr>\n",
       "    <tr>\n",
       "      <th>4</th>\n",
       "      <td>good punctual</td>\n",
       "      <td>0</td>\n",
       "    </tr>\n",
       "  </tbody>\n",
       "</table>\n",
       "</div>"
      ],
      "text/plain": [
       "                                            feedback  sentiment\n",
       "0  teacher punctual also give us practical knowle...          0\n",
       "1  excellent lectures delivered teachers teachers...          0\n",
       "2  teachers give us information required improve ...          0\n",
       "3                                                yes          0\n",
       "4                                      good punctual          0"
      ]
     },
     "execution_count": 6,
     "metadata": {},
     "output_type": "execute_result"
    }
   ],
   "source": [
    "data2.head()"
   ]
  },
  {
   "cell_type": "markdown",
   "metadata": {},
   "source": [
    "<h3 style='color:#15284C;'>Data Preparation</h3>"
   ]
  },
  {
   "cell_type": "code",
   "execution_count": 7,
   "metadata": {},
   "outputs": [],
   "source": [
    "#rename the columns\n",
    "data.rename(columns={\n",
    "    'Timestamp':'time_stamp',\n",
    "    'Username':'user_name',\n",
    "    'I agree':'terms_conditions',\n",
    "    'Gender':'gender',\n",
    "    'Age':'age',\n",
    "    'Phone Number / Tel':'tel',\n",
    "    'Your Major ':'major',\n",
    "    'Education Levels':'education_levels',\n",
    "    'University/Institution':'university',\n",
    "    'Your Current Locality When Studying Online Learning':'local',\n",
    "    'Feedback on online/distance learning (During COVID-19)':'feedback',\n",
    "    'Emotional of online/distance learning (During COVID-19)':'emotion',\n",
    "    'Telegram':'telegram',\n",
    "    'Email Address':'email_address',\n",
    "     'Messenger':'messenger',\n",
    "     'University Messenger':'university_messenger',\n",
    "     'Other Digital Communication Tools ':'other_com_tools',\n",
    "     'Google Meet':'google_meet',\n",
    "     'Zoom':'zoom',\n",
    "     'Microsoft Team':'microsoft_team',\n",
    "     'Google Classroom':'google_classroom',\n",
    "     'Other Online Management Platforms':'other_manage_tools',\n",
    "     'I have highly attended school works.':'school_works',\n",
    "     'On average, How much time do you spend per day on online learning? ':'learning_time',\n",
    "     'I prefer to study online more than the physical class':'online_physical_class',\n",
    "     'I have been feeling stressed since I started studying online.':'feeling_stress',\n",
    "     'During the online learning, I was received more confidence in solving personal problems.':'solving_problem',\n",
    "     'Communication with classmates and teachers during online learning':'communication',\n",
    "     'I can ask the teacher for help quickly when I have a problem.':'asking_teacher',\n",
    "     'I get more difficulties during online learning':'get_difficulties',\n",
    "     'I meet difficulties during online learning':'difficulties',\n",
    "     'My daily online learning process is working smoothly':'online_learning_smoothly',\n",
    "     'What are you mostly using digital devices with online learning?':'digital_devices',\n",
    "     'On average, how much have you paid per month on wifi or hotspot?':'internet_payment',\n",
    "     'I encountered/meet technical difficulties while studying online.':'met_tech_difficulties',\n",
    "     'Online learning can completely replace hands-on classroom learning, even if COVID-19 status is terminated.':'online_replace_offline',\n",
    "     'I prefer to study face-to-face class (offline class)':'prefer_face_to_face',\n",
    "     'I prefer to study online class':'prefer_online_class',\n",
    "     'I prefer to study online and offline class':'prefer_both'\n",
    "    }, inplace=True)"
   ]
  },
  {
   "cell_type": "code",
   "execution_count": 8,
   "metadata": {
    "scrolled": false
   },
   "outputs": [
    {
     "data": {
      "text/plain": [
       "time_stamp                  object\n",
       "user_name                   object\n",
       "terms_conditions            object\n",
       "gender                      object\n",
       "age                         object\n",
       "tel                         object\n",
       "major                       object\n",
       "education_levels            object\n",
       "university                  object\n",
       "local                       object\n",
       "feedback                    object\n",
       "emotion                     object\n",
       "telegram                     int64\n",
       "email_address                int64\n",
       "messenger                    int64\n",
       "university_messenger         int64\n",
       "other_com_tools             object\n",
       "google_meet                  int64\n",
       "zoom                         int64\n",
       "microsoft_team               int64\n",
       "google_classroom             int64\n",
       "other_manage_tools          object\n",
       "school_works                object\n",
       "learning_time               object\n",
       "online_physical_class       object\n",
       "feeling_stress              object\n",
       "solving_problem             object\n",
       "communication               object\n",
       "asking_teacher              object\n",
       "get_difficulties            object\n",
       "difficulties                object\n",
       "online_learning_smoothly    object\n",
       "digital_devices             object\n",
       "internet_payment            object\n",
       "met_tech_difficulties       object\n",
       "online_replace_offline      object\n",
       "prefer_face_to_face         object\n",
       "prefer_online_class         object\n",
       "prefer_both                 object\n",
       "dtype: object"
      ]
     },
     "execution_count": 8,
     "metadata": {},
     "output_type": "execute_result"
    }
   ],
   "source": [
    "#check the data types\n",
    "data.dtypes"
   ]
  },
  {
   "cell_type": "code",
   "execution_count": 9,
   "metadata": {
    "scrolled": false
   },
   "outputs": [
    {
     "name": "stdout",
     "output_type": "stream",
     "text": [
      "<class 'pandas.core.frame.DataFrame'>\n",
      "RangeIndex: 503 entries, 0 to 502\n",
      "Data columns (total 39 columns):\n",
      " #   Column                    Non-Null Count  Dtype \n",
      "---  ------                    --------------  ----- \n",
      " 0   time_stamp                503 non-null    object\n",
      " 1   user_name                 503 non-null    object\n",
      " 2   terms_conditions          503 non-null    object\n",
      " 3   gender                    503 non-null    object\n",
      " 4   age                       503 non-null    object\n",
      " 5   tel                       460 non-null    object\n",
      " 6   major                     503 non-null    object\n",
      " 7   education_levels          503 non-null    object\n",
      " 8   university                503 non-null    object\n",
      " 9   local                     503 non-null    object\n",
      " 10  feedback                  496 non-null    object\n",
      " 11  emotion                   503 non-null    object\n",
      " 12  telegram                  503 non-null    int64 \n",
      " 13  email_address             503 non-null    int64 \n",
      " 14  messenger                 503 non-null    int64 \n",
      " 15  university_messenger      503 non-null    int64 \n",
      " 16  other_com_tools           241 non-null    object\n",
      " 17  google_meet               503 non-null    int64 \n",
      " 18  zoom                      503 non-null    int64 \n",
      " 19  microsoft_team            503 non-null    int64 \n",
      " 20  google_classroom          503 non-null    int64 \n",
      " 21  other_manage_tools        137 non-null    object\n",
      " 22  school_works              503 non-null    object\n",
      " 23  learning_time             503 non-null    object\n",
      " 24  online_physical_class     503 non-null    object\n",
      " 25  feeling_stress            503 non-null    object\n",
      " 26  solving_problem           503 non-null    object\n",
      " 27  communication             503 non-null    object\n",
      " 28  asking_teacher            503 non-null    object\n",
      " 29  get_difficulties          503 non-null    object\n",
      " 30  difficulties              503 non-null    object\n",
      " 31  online_learning_smoothly  503 non-null    object\n",
      " 32  digital_devices           503 non-null    object\n",
      " 33  internet_payment          502 non-null    object\n",
      " 34  met_tech_difficulties     503 non-null    object\n",
      " 35  online_replace_offline    503 non-null    object\n",
      " 36  prefer_face_to_face       291 non-null    object\n",
      " 37  prefer_online_class       291 non-null    object\n",
      " 38  prefer_both               291 non-null    object\n",
      "dtypes: int64(8), object(31)\n",
      "memory usage: 153.4+ KB\n"
     ]
    }
   ],
   "source": [
    "#check the features info\n",
    "data.info()"
   ]
  },
  {
   "cell_type": "code",
   "execution_count": 10,
   "metadata": {},
   "outputs": [
    {
     "data": {
      "text/plain": [
       "time_stamp                  False\n",
       "user_name                   False\n",
       "terms_conditions            False\n",
       "gender                      False\n",
       "age                         False\n",
       "tel                          True\n",
       "major                       False\n",
       "education_levels            False\n",
       "university                  False\n",
       "local                       False\n",
       "feedback                     True\n",
       "emotion                     False\n",
       "telegram                    False\n",
       "email_address               False\n",
       "messenger                   False\n",
       "university_messenger        False\n",
       "other_com_tools              True\n",
       "google_meet                 False\n",
       "zoom                        False\n",
       "microsoft_team              False\n",
       "google_classroom            False\n",
       "other_manage_tools           True\n",
       "school_works                False\n",
       "learning_time               False\n",
       "online_physical_class       False\n",
       "feeling_stress              False\n",
       "solving_problem             False\n",
       "communication               False\n",
       "asking_teacher              False\n",
       "get_difficulties            False\n",
       "difficulties                False\n",
       "online_learning_smoothly    False\n",
       "digital_devices             False\n",
       "internet_payment             True\n",
       "met_tech_difficulties       False\n",
       "online_replace_offline      False\n",
       "prefer_face_to_face          True\n",
       "prefer_online_class          True\n",
       "prefer_both                  True\n",
       "dtype: bool"
      ]
     },
     "execution_count": 10,
     "metadata": {},
     "output_type": "execute_result"
    }
   ],
   "source": [
    "#check the dataset null or not\n",
    "data.isnull().any()"
   ]
  },
  {
   "cell_type": "code",
   "execution_count": 11,
   "metadata": {},
   "outputs": [
    {
     "data": {
      "text/plain": [
       "time_stamp                    0\n",
       "user_name                     0\n",
       "terms_conditions              0\n",
       "gender                        0\n",
       "age                           0\n",
       "tel                          43\n",
       "major                         0\n",
       "education_levels              0\n",
       "university                    0\n",
       "local                         0\n",
       "feedback                      7\n",
       "emotion                       0\n",
       "telegram                      0\n",
       "email_address                 0\n",
       "messenger                     0\n",
       "university_messenger          0\n",
       "other_com_tools             262\n",
       "google_meet                   0\n",
       "zoom                          0\n",
       "microsoft_team                0\n",
       "google_classroom              0\n",
       "other_manage_tools          366\n",
       "school_works                  0\n",
       "learning_time                 0\n",
       "online_physical_class         0\n",
       "feeling_stress                0\n",
       "solving_problem               0\n",
       "communication                 0\n",
       "asking_teacher                0\n",
       "get_difficulties              0\n",
       "difficulties                  0\n",
       "online_learning_smoothly      0\n",
       "digital_devices               0\n",
       "internet_payment              1\n",
       "met_tech_difficulties         0\n",
       "online_replace_offline        0\n",
       "prefer_face_to_face         212\n",
       "prefer_online_class         212\n",
       "prefer_both                 212\n",
       "dtype: int64"
      ]
     },
     "execution_count": 11,
     "metadata": {},
     "output_type": "execute_result"
    }
   ],
   "source": [
    "#sum the dataset is null \n",
    "data.isnull().sum()"
   ]
  },
  {
   "cell_type": "code",
   "execution_count": 12,
   "metadata": {},
   "outputs": [
    {
     "data": {
      "image/png": "[encoded data removed]",
      "text/plain": [
       "<Figure size 1080x360 with 1 Axes>"
      ]
     },
     "metadata": {
      "needs_background": "light"
     },
     "output_type": "display_data"
    }
   ],
   "source": [
    "#check data null ft heatmap\n",
    "plt.figure(figsize=(15,5))\n",
    "sns.heatmap(data.isnull(), cbar=False)\n",
    "plt.xticks(rotation='80')\n",
    "plt.show()"
   ]
  },
  {
   "cell_type": "code",
   "execution_count": 13,
   "metadata": {},
   "outputs": [
    {
     "name": "stdout",
     "output_type": "stream",
     "text": [
      "************************************************************************************************************\n",
      "Duplicated values, there are:  0\n",
      "************************************************************************************************************\n"
     ]
    }
   ],
   "source": [
    "#check duplicates values number\n",
    "def check_duplicate_values(data):\n",
    "    print(\"**\"*54)\n",
    "    print(\"Duplicated values, there are: \", data.duplicated().sum())\n",
    "    print(\"**\"*54)\n",
    "    \n",
    "#check duplicates values\n",
    "#call above function\n",
    "\n",
    "check_duplicate_values(data)"
   ]
  },
  {
   "cell_type": "code",
   "execution_count": 14,
   "metadata": {},
   "outputs": [],
   "source": [
    "#drop the features are not mostly helpful\n",
    "data.drop(['user_name','terms_conditions','tel','other_com_tools','other_manage_tools'],\n",
    "         axis=1, inplace=True)"
   ]
  },
  {
   "cell_type": "code",
   "execution_count": 15,
   "metadata": {},
   "outputs": [],
   "source": [
    "#define a variable and copy dataset\n",
    "df_sent = data.copy()"
   ]
  },
  {
   "cell_type": "code",
   "execution_count": 16,
   "metadata": {},
   "outputs": [],
   "source": [
    "# Loading dictionary of smilies\n",
    "def load_dict_smileys():\n",
    " \n",
    " return {\n",
    " \":-)\": \"smiley\",\n",
    " \":)\" : \"smiley\",\n",
    " \":D\": \"smiley\",\n",
    " \"xD\": \"smiley\",\n",
    " \":’)\" : \"smiley\",\n",
    " \":’D\" : \"smiley\",\n",
    " \":3\" : \"smiley\",\n",
    " \":]\" : \"smiley\",\n",
    " \":^)\" : \"smiley\",\n",
    " \":-]\" : \"smiley\",\n",
    " \":-3\" : \"smiley\",\n",
    " \":->\" : \"smiley\",\n",
    " \":))\" : \"smiley\",\n",
    " \"8-)\" : \"cool\",\n",
    " \"8)\" : \"cool\",\n",
    " \"8-D\" : \"cool\",\n",
    " \"B)\" : \"cool\",\n",
    " \"BD\" : \"cool\",\n",
    " \":-}\": \"smiley\",\n",
    " \":>\" : \"smiley\",\n",
    " \":}\" : \"smiley\",\n",
    " \":o)\" : \"smiley\",\n",
    " \":c)\" : \"smiley\",\n",
    " \"=)\" : \"smiley\",\n",
    " \"=D\" : \"smiley\",\n",
    " \"=]\" : \"smiley\",\n",
    " \":-D\" : \"smiley\",\n",
    " \"XD\" : \"smiley\",\n",
    " \":o\" : \"surprised\",\n",
    " \":O\" : \"surprised\",\n",
    " \"=o\" : \"surprised\",\n",
    " \"=O\" : \"surprised\",\n",
    " \":0\" : \"surprised\",\n",
    " \":(\" : \"sad\",\n",
    " \":C\" : \"sad\",\n",
    " \":c\" : \"sad\",\n",
    " \"=(\" : \"sad\",\n",
    " \"=c\" : \"sad\",\n",
    " \"=C\" : \"sad\",\n",
    " \":-(\" : \"sad\",\n",
    " \":-c\" : \"sad\",\n",
    " \":-C\" : \"sad\",\n",
    " \":-<\" : \"sad\",\n",
    " \":<\" : \"sad\",\n",
    " \":[\" : \"sad\",\n",
    " \":{\" : \"sad\",\n",
    " \":’(\" : \"crying\",\n",
    " \":P\" : \"playful\",\n",
    " \":p\" : \"playful\",\n",
    " \"xP\" : \"playful\",\n",
    " \"XP\": \"playful\",\n",
    " \"=P\": \"playful\",\n",
    " \"=p\" : \"playful\",\n",
    " \"xp\": \"playful\",\n",
    " \"xb\": \"playful\",\n",
    " \"❤\": \"love\",\n",
    " \"</3\": \"sad\",\n",
    " \":/\": \"worried\",\n",
    " \":-/\" : \"worried\"\n",
    "}"
   ]
  },
  {
   "cell_type": "code",
   "execution_count": 17,
   "metadata": {},
   "outputs": [],
   "source": [
    "#create a function to convert text into lowercase\n",
    "def convert_to_lowercase(text):\n",
    "    text = text.str.lower()\n",
    "    return text\n",
    "\n",
    "cachedStopWords = stopwords.words(\"english\")\n",
    "def remove_stopwords(text):\n",
    "    text = ' '.join([word for word in text.split() if word not in cachedStopWords])\n",
    "    return text\n",
    "\n",
    "\n",
    "#create a function to apply word tokenization\n",
    "def convert_to_word_tokens(text):\n",
    "    text = text.word_tokenize(text)\n",
    "    return text\n",
    "\n",
    "#create a function to apply word tokenization\n",
    "def convert_to_sentence_tokens(text):\n",
    "    text = text.sent_tokenize(text)\n",
    "    return text\n",
    "\n",
    "#create a function to apply word tokenization\n",
    "def convert_to_pos_tagging(text):\n",
    "    text = text.pos_tag(text)\n",
    "    return text\n",
    "\n",
    "#calculate word length\n",
    "def text_length_calculation(text):\n",
    "    return len(text.split(' '))\n",
    "    \n",
    "#remove space\n",
    "def remove_space(series):\n",
    "    series.replace(\" \", \"\", inplace=True)\n",
    "    \n",
    "            \n",
    "#function to clean the word of any html-tags\n",
    "def remove_html(sentence): \n",
    "    clean = re.compile('<.*?>')\n",
    "    clean_text = re.sub(clean, ' ', sentence)\n",
    "    return clean_text\n",
    "\n",
    "#remove url from text\n",
    "def remove_urls(text):\n",
    "    url_pattern = re.compile(r'href|http.\\w+')\n",
    "    return url_pattern.sub(r'', text)\n",
    "\n",
    "def remove_abbreviations(text):\n",
    "    tokens = text.split(\" \")\n",
    "    j = 0\n",
    "    for token in tokens:\n",
    "        file_name = \"<path to CSV file>\"\n",
    "        with open(file_name, \"r\") as fh:\n",
    "            reader = csv.reader(fh)\n",
    "            for row in reader:\n",
    "                if row[0] == token:\n",
    "                    tokens[j] = row[1]\n",
    "                    fh.close()\n",
    "                    j = j + 1\n",
    "    return \"\".join(tokens)\n",
    "\n",
    "# Removing smilies and emojis\n",
    "def remove_emoticons(text):\n",
    "    smilies = load_dict_smileys()\n",
    "    split_tweet = text.split(\" \")\n",
    "    for key,val in smilies.items():\n",
    "        if key in text:\n",
    "            new_tweet = text.replace(key, val)\n",
    "            text = new_tweet\n",
    "            text = emoji.demojize(text)\n",
    "            text = ' '.join(text.split())\n",
    "    return text\n",
    "\n",
    "def preprocess(text, stem=False):\n",
    "    # Remove link,user and special characters\n",
    "    text = re.sub(TEXT_CLEANING_RE, ' ', str(text).lower()).strip()\n",
    "    tokens = []\n",
    "    for token in text.split():\n",
    "        if token not in stop_words:\n",
    "            if stem:\n",
    "                tokens.append(stemmer.stem(token))\n",
    "            else:\n",
    "                tokens.append(token)\n",
    "    return \" \".join(tokens)"
   ]
  },
  {
   "cell_type": "code",
   "execution_count": 18,
   "metadata": {},
   "outputs": [],
   "source": [
    "#create a function to remove punctuation\n",
    "def remove_punctuation(text):\n",
    "    text = re.sub('\\[.*?\\]', '', str(text))\n",
    "    text = re.sub('[%s]' % re.escape(string.punctuation),'', str(text))\n",
    "    text = re.sub('\\w*\\d\\w*', '', str(text))\n",
    "    text = re.sub('[‘’“”…]', '', str(text))\n",
    "    text = re.sub('\\n', '', str(text))\n",
    "    return text\n",
    "remove_pun = lambda x: remove_punctuation(x)"
   ]
  },
  {
   "cell_type": "code",
   "execution_count": 19,
   "metadata": {},
   "outputs": [],
   "source": [
    "#Converting the time frame and sorting in increasing order for easyness\n",
    "df_sent[\"time_stamp\"] = pd.to_datetime(df_sent[\"time_stamp\"])\n",
    "df_sent = df_sent.sort_values(by = \"time_stamp\")"
   ]
  },
  {
   "cell_type": "code",
   "execution_count": 20,
   "metadata": {},
   "outputs": [],
   "source": [
    "#remove white space from series of the dataset\n",
    "remove_space(df_sent.feedback)"
   ]
  },
  {
   "cell_type": "code",
   "execution_count": 21,
   "metadata": {},
   "outputs": [],
   "source": [
    "#convert to lowercase\n",
    "df_sent['feedback'] = convert_to_lowercase(df_sent.feedback)"
   ]
  },
  {
   "cell_type": "code",
   "execution_count": 22,
   "metadata": {},
   "outputs": [],
   "source": [
    "#remove Punctuation\n",
    "\n",
    "#********************************************************************************************************\n",
    "#it spends much time to run\n",
    "#********************************************************************************************************\n",
    "df_sent['feedback'] = df_sent['feedback'].apply(lambda x: remove_punctuation(x))"
   ]
  },
  {
   "cell_type": "code",
   "execution_count": 23,
   "metadata": {},
   "outputs": [],
   "source": [
    "#remove stopword\n",
    "#It takes much time to run.\n",
    "df_sent.feedback = df_sent.feedback.apply(remove_stopwords)"
   ]
  },
  {
   "cell_type": "code",
   "execution_count": 24,
   "metadata": {},
   "outputs": [],
   "source": [
    "#remove smilies\n",
    "\n",
    "#********************************************************************************************************\n",
    "#it spends much time \n",
    "#********************************************************************************************************\n",
    "df_sent['feedback'] = df_sent['feedback'].apply(lambda x: remove_emoticons(x))"
   ]
  },
  {
   "cell_type": "code",
   "execution_count": 25,
   "metadata": {},
   "outputs": [],
   "source": [
    "#calculate review and summanry lengthd\n",
    "df_sent['feedback_length']= df_sent['feedback'].apply(text_length_calculation)"
   ]
  },
  {
   "cell_type": "code",
   "execution_count": 26,
   "metadata": {},
   "outputs": [
    {
     "data": {
      "image/png": "[encoded data removed]",
      "text/plain": [
       "<Figure size 720x432 with 1 Axes>"
      ]
     },
     "metadata": {
      "needs_background": "light"
     },
     "output_type": "display_data"
    }
   ],
   "source": [
    "#check outlier of the text length\n",
    "f, axes = plt.subplots(ncols=1, figsize=(10, 6))\n",
    "\n",
    "sns.boxplot(y=df_sent['feedback_length'] ,color='grey')\n",
    "plt.show()\n"
   ]
  },
  {
   "cell_type": "code",
   "execution_count": 27,
   "metadata": {},
   "outputs": [],
   "source": [
    "#feature selecting\n",
    "\n",
    "df_sent = df_sent[['feedback']]"
   ]
  },
  {
   "cell_type": "code",
   "execution_count": 28,
   "metadata": {},
   "outputs": [
    {
     "data": {
      "text/html": [
       "<div>\n",
       "<style scoped>\n",
       "    .dataframe tbody tr th:only-of-type {\n",
       "        vertical-align: middle;\n",
       "    }\n",
       "\n",
       "    .dataframe tbody tr th {\n",
       "        vertical-align: top;\n",
       "    }\n",
       "\n",
       "    .dataframe thead th {\n",
       "        text-align: right;\n",
       "    }\n",
       "</style>\n",
       "<table border=\"1\" class=\"dataframe\">\n",
       "  <thead>\n",
       "    <tr style=\"text-align: right;\">\n",
       "      <th></th>\n",
       "      <th>feedback</th>\n",
       "    </tr>\n",
       "  </thead>\n",
       "  <tbody>\n",
       "    <tr>\n",
       "      <th>0</th>\n",
       "      <td>good enough compare learning school safe</td>\n",
       "    </tr>\n",
       "    <tr>\n",
       "      <th>1</th>\n",
       "      <td>everything good except internet stable cause s...</td>\n",
       "    </tr>\n",
       "    <tr>\n",
       "      <th>2</th>\n",
       "      <td>pros cons cons seem exist pros subjects requir...</td>\n",
       "    </tr>\n",
       "    <tr>\n",
       "      <th>3</th>\n",
       "      <td>hard little bit simulator lab</td>\n",
       "    </tr>\n",
       "    <tr>\n",
       "      <th>4</th>\n",
       "      <td>poor</td>\n",
       "    </tr>\n",
       "  </tbody>\n",
       "</table>\n",
       "</div>"
      ],
      "text/plain": [
       "                                            feedback\n",
       "0           good enough compare learning school safe\n",
       "1  everything good except internet stable cause s...\n",
       "2  pros cons cons seem exist pros subjects requir...\n",
       "3                      hard little bit simulator lab\n",
       "4                                               poor"
      ]
     },
     "execution_count": 28,
     "metadata": {},
     "output_type": "execute_result"
    }
   ],
   "source": [
    "df_sent.head()"
   ]
  },
  {
   "cell_type": "code",
   "execution_count": 29,
   "metadata": {},
   "outputs": [],
   "source": [
    "#we use textblob python library to calculate the palority values of text\n",
    "\n",
    "#call sentitment_polarity\n",
    "polarity=[]\n",
    "for i in df_sent['feedback']:\n",
    "    try:\n",
    "        polarity.append(TextBlob(i).sentiment.polarity)\n",
    "    except:\n",
    "        polarity.append(0)"
   ]
  },
  {
   "cell_type": "code",
   "execution_count": 30,
   "metadata": {},
   "outputs": [],
   "source": [
    "#insert the polarity values as a column\n",
    "df_sent['polarity'] = polarity "
   ]
  },
  {
   "cell_type": "code",
   "execution_count": 31,
   "metadata": {},
   "outputs": [],
   "source": [
    "#check the sentment values\n",
    "#if the polarity > 0 : Positive\n",
    "#else the polarity < = : Negative\n",
    "positive_sent = df_sent[df_sent['polarity'] >= 0]\n",
    "negative_sent = df_sent[df_sent['polarity'] < 0]"
   ]
  },
  {
   "cell_type": "code",
   "execution_count": 32,
   "metadata": {},
   "outputs": [],
   "source": [
    "#define the label of sentiment\n",
    "df_sent['sentiment'] = df_sent['polarity'].apply(lambda x : 1 if x < 0 else 0)"
   ]
  },
  {
   "cell_type": "code",
   "execution_count": 33,
   "metadata": {},
   "outputs": [
    {
     "name": "stdout",
     "output_type": "stream",
     "text": [
      "**************************************************\n",
      "Positive Sentiment:  (357, 2)\n",
      "Negative Sentiment:  (146, 2)\n",
      "**************************************************\n"
     ]
    }
   ],
   "source": [
    "#check the values of sentiment\n",
    "print(\"*\" * 50)\n",
    "print(\"Positive Sentiment: \", positive_sent.shape)\n",
    "print(\"Negative Sentiment: \", negative_sent.shape)\n",
    "print(\"*\" * 50)"
   ]
  },
  {
   "cell_type": "code",
   "execution_count": 34,
   "metadata": {},
   "outputs": [],
   "source": [
    "#from sklearn.preprocessing import LabelEncoder\n",
    "#label_enconder = LabelEncoder()\n",
    "\n",
    "#label encoder for model features\n",
    "#df_sent.emotion = label_enconder.fit_transform(df_sent.emotion)\n",
    "#df_sent.online_physical_class = label_enconder.fit_transform(df_sent.online_physical_class)\n",
    "#df_sent.feeling_stress = label_enconder.fit_transform(df_sent.feeling_stress)\n",
    "#df_sent.solving_problem = label_enconder.fit_transform(df_sent.solving_problem)\n",
    "#df_sent.get_difficulties = label_enconder.fit_transform(df_sent.get_difficulties)"
   ]
  },
  {
   "cell_type": "code",
   "execution_count": 35,
   "metadata": {},
   "outputs": [
    {
     "data": {
      "text/html": [
       "<div>\n",
       "<style scoped>\n",
       "    .dataframe tbody tr th:only-of-type {\n",
       "        vertical-align: middle;\n",
       "    }\n",
       "\n",
       "    .dataframe tbody tr th {\n",
       "        vertical-align: top;\n",
       "    }\n",
       "\n",
       "    .dataframe thead th {\n",
       "        text-align: right;\n",
       "    }\n",
       "</style>\n",
       "<table border=\"1\" class=\"dataframe\">\n",
       "  <thead>\n",
       "    <tr style=\"text-align: right;\">\n",
       "      <th></th>\n",
       "      <th>feedback</th>\n",
       "      <th>polarity</th>\n",
       "      <th>sentiment</th>\n",
       "    </tr>\n",
       "  </thead>\n",
       "  <tbody>\n",
       "    <tr>\n",
       "      <th>0</th>\n",
       "      <td>good enough compare learning school safe</td>\n",
       "      <td>0.400000</td>\n",
       "      <td>0</td>\n",
       "    </tr>\n",
       "    <tr>\n",
       "      <th>1</th>\n",
       "      <td>everything good except internet stable cause s...</td>\n",
       "      <td>0.700000</td>\n",
       "      <td>0</td>\n",
       "    </tr>\n",
       "    <tr>\n",
       "      <th>2</th>\n",
       "      <td>pros cons cons seem exist pros subjects requir...</td>\n",
       "      <td>0.400000</td>\n",
       "      <td>0</td>\n",
       "    </tr>\n",
       "    <tr>\n",
       "      <th>3</th>\n",
       "      <td>hard little bit simulator lab</td>\n",
       "      <td>-0.239583</td>\n",
       "      <td>1</td>\n",
       "    </tr>\n",
       "    <tr>\n",
       "      <th>4</th>\n",
       "      <td>poor</td>\n",
       "      <td>-0.400000</td>\n",
       "      <td>1</td>\n",
       "    </tr>\n",
       "    <tr>\n",
       "      <th>5</th>\n",
       "      <td>sometimes got annoy family internet connection...</td>\n",
       "      <td>0.000000</td>\n",
       "      <td>0</td>\n",
       "    </tr>\n",
       "    <tr>\n",
       "      <th>6</th>\n",
       "      <td>sometime feel boring sometime feel good learning</td>\n",
       "      <td>-0.150000</td>\n",
       "      <td>1</td>\n",
       "    </tr>\n",
       "    <tr>\n",
       "      <th>7</th>\n",
       "      <td>feel uncomfortable stressful</td>\n",
       "      <td>-0.500000</td>\n",
       "      <td>1</td>\n",
       "    </tr>\n",
       "    <tr>\n",
       "      <th>8</th>\n",
       "      <td>normal</td>\n",
       "      <td>0.150000</td>\n",
       "      <td>0</td>\n",
       "    </tr>\n",
       "    <tr>\n",
       "      <th>9</th>\n",
       "      <td>quite hectic didnt learn much sometimes take l...</td>\n",
       "      <td>0.200000</td>\n",
       "      <td>0</td>\n",
       "    </tr>\n",
       "  </tbody>\n",
       "</table>\n",
       "</div>"
      ],
      "text/plain": [
       "                                            feedback  polarity  sentiment\n",
       "0           good enough compare learning school safe  0.400000          0\n",
       "1  everything good except internet stable cause s...  0.700000          0\n",
       "2  pros cons cons seem exist pros subjects requir...  0.400000          0\n",
       "3                      hard little bit simulator lab -0.239583          1\n",
       "4                                               poor -0.400000          1\n",
       "5  sometimes got annoy family internet connection...  0.000000          0\n",
       "6   sometime feel boring sometime feel good learning -0.150000          1\n",
       "7                       feel uncomfortable stressful -0.500000          1\n",
       "8                                             normal  0.150000          0\n",
       "9  quite hectic didnt learn much sometimes take l...  0.200000          0"
      ]
     },
     "execution_count": 35,
     "metadata": {},
     "output_type": "execute_result"
    }
   ],
   "source": [
    "df_sent.head(10)"
   ]
  },
  {
   "cell_type": "code",
   "execution_count": 36,
   "metadata": {},
   "outputs": [],
   "source": [
    "#drop the polarity feature\n",
    "df_sent.drop('polarity', axis=1, inplace=True)"
   ]
  },
  {
   "cell_type": "code",
   "execution_count": 37,
   "metadata": {},
   "outputs": [],
   "source": [
    "#merge primary and secondary data\n",
    "frames = [data1, df_sent, data2]\n",
    "dataset = pd.concat(frames)"
   ]
  },
  {
   "cell_type": "code",
   "execution_count": 38,
   "metadata": {},
   "outputs": [
    {
     "name": "stdout",
     "output_type": "stream",
     "text": [
      "Sample: 867\n",
      "************************************************************************************************************\n",
      "Features: 2\n"
     ]
    }
   ],
   "source": [
    "print(\"Sample:\", dataset.shape[0])\n",
    "print(\"**\"*54)\n",
    "print(\"Features:\", dataset.shape[1])"
   ]
  },
  {
   "cell_type": "code",
   "execution_count": 39,
   "metadata": {},
   "outputs": [
    {
     "data": {
      "text/plain": [
       "feedback     0\n",
       "sentiment    0\n",
       "dtype: int64"
      ]
     },
     "execution_count": 39,
     "metadata": {},
     "output_type": "execute_result"
    }
   ],
   "source": [
    "#drop null values\n",
    "dataset.dropna(inplace=True)\n",
    "dataset.isnull().sum()"
   ]
  },
  {
   "cell_type": "code",
   "execution_count": 40,
   "metadata": {},
   "outputs": [
    {
     "data": {
      "image/png": "[encoded data removed]",
      "text/plain": [
       "<Figure size 1440x360 with 1 Axes>"
      ]
     },
     "metadata": {
      "needs_background": "light"
     },
     "output_type": "display_data"
    }
   ],
   "source": [
    "plt.figure(figsize=(20,5))\n",
    "sns.countplot(x='sentiment', data=dataset)\n",
    "plt.title('Sentiment | Label', fontweight='bold', color='#065164')\n",
    "plt.xticks(rotation='0')\n",
    "plt.show()"
   ]
  },
  {
   "cell_type": "code",
   "execution_count": 41,
   "metadata": {},
   "outputs": [
    {
     "data": {
      "image/png": "[encoded data removed]",
      "text/plain": [
       "<Figure size 576x576 with 1 Axes>"
      ]
     },
     "metadata": {},
     "output_type": "display_data"
    }
   ],
   "source": [
    "plt.figure(figsize=(8,8))\n",
    "dataset['sentiment'].value_counts().plot.pie(autopct='%1.1f%%')\n",
    "plt.title('Sentiment | Label', fontweight='bold', color='#065164')\n",
    "plt.show()"
   ]
  },
  {
   "cell_type": "markdown",
   "metadata": {},
   "source": [
    "<h3 style='color:#15284C;'>Data Preprocessing</h3>"
   ]
  },
  {
   "cell_type": "code",
   "execution_count": 42,
   "metadata": {},
   "outputs": [],
   "source": [
    "from collections import Counter\n",
    "from imblearn.over_sampling import RandomOverSampler\n",
    "\n",
    "X_train, X_test, y_train, y_test = train_test_split(dataset['feedback'], dataset['sentiment'].values, test_size=0.3)"
   ]
  },
  {
   "cell_type": "code",
   "execution_count": 43,
   "metadata": {},
   "outputs": [
    {
     "data": {
      "text/plain": [
       "Counter({0: 470, 1: 129})"
      ]
     },
     "execution_count": 43,
     "metadata": {},
     "output_type": "execute_result"
    }
   ],
   "source": [
    "#count y train\n",
    "Counter(y_train)"
   ]
  },
  {
   "cell_type": "code",
   "execution_count": 44,
   "metadata": {},
   "outputs": [
    {
     "data": {
      "text/plain": [
       "TfidfVectorizer()"
      ]
     },
     "execution_count": 44,
     "metadata": {},
     "output_type": "execute_result"
    }
   ],
   "source": [
    "vectorizer = TfidfVectorizer()\n",
    "vectorizer.fit(X_train)"
   ]
  },
  {
   "cell_type": "code",
   "execution_count": 45,
   "metadata": {},
   "outputs": [
    {
     "data": {
      "text/plain": [
       "(599, 1238)"
      ]
     },
     "execution_count": 45,
     "metadata": {},
     "output_type": "execute_result"
    }
   ],
   "source": [
    "X_train_tf = vectorizer.transform(X_train)\n",
    "X_train_tf = X_train_tf.toarray()\n",
    "X_train_tf.shape"
   ]
  },
  {
   "cell_type": "code",
   "execution_count": 46,
   "metadata": {},
   "outputs": [
    {
     "data": {
      "text/plain": [
       "array([[0., 0., 0., ..., 0., 0., 0.],\n",
       "       [0., 0., 0., ..., 0., 0., 0.],\n",
       "       [0., 0., 0., ..., 0., 0., 0.],\n",
       "       ...,\n",
       "       [0., 0., 0., ..., 0., 0., 0.],\n",
       "       [0., 0., 0., ..., 0., 0., 0.],\n",
       "       [0., 0., 0., ..., 0., 0., 0.]])"
      ]
     },
     "execution_count": 46,
     "metadata": {},
     "output_type": "execute_result"
    }
   ],
   "source": [
    "X_test_tf = vectorizer.transform(X_test)\n",
    "X_test_tf = X_test_tf.toarray()\n",
    "X_test_tf"
   ]
  },
  {
   "cell_type": "code",
   "execution_count": 47,
   "metadata": {},
   "outputs": [],
   "source": [
    "overSampler = RandomOverSampler()\n",
    "X_train_os, y_train_os = overSampler.fit_resample(X_train_tf, y_train)"
   ]
  },
  {
   "cell_type": "code",
   "execution_count": 48,
   "metadata": {},
   "outputs": [
    {
     "data": {
      "text/plain": [
       "Counter({0: 470, 1: 470})"
      ]
     },
     "execution_count": 48,
     "metadata": {},
     "output_type": "execute_result"
    }
   ],
   "source": [
    "Counter(y_train_os)"
   ]
  },
  {
   "cell_type": "code",
   "execution_count": 49,
   "metadata": {},
   "outputs": [],
   "source": [
    "#implement data preprocessing\n",
    "\n",
    "#stopset = set(stopwords.words('english'))\n",
    "#vectorizer = TfidfVectorizer(use_idf=True, lowercase=True, strip_accents='ascii', stop_words=stopset)"
   ]
  },
  {
   "cell_type": "code",
   "execution_count": 50,
   "metadata": {},
   "outputs": [],
   "source": [
    "#define the variables to split\n",
    "#y = dataset.sentiment\n",
    "#x = dataset.feedback"
   ]
  },
  {
   "cell_type": "code",
   "execution_count": 51,
   "metadata": {},
   "outputs": [],
   "source": [
    "#apply countvectorizer into text\n",
    "#Vectorizer\n",
    "from sklearn.feature_extraction.text import CountVectorizer #,TfidfVectorizer\n",
    "#count_vectorizer = CountVectorizer()\n",
    "#X = count_vectorizer.fit_transform(x)"
   ]
  },
  {
   "cell_type": "code",
   "execution_count": 52,
   "metadata": {},
   "outputs": [],
   "source": [
    "#get the feature by names\n",
    "#count_vectorizer.get_feature_names()[0:10]"
   ]
  },
  {
   "cell_type": "code",
   "execution_count": 53,
   "metadata": {},
   "outputs": [
    {
     "name": "stdout",
     "output_type": "stream",
     "text": [
      "X shape: (940, 1238)\n",
      "************************************************************************************************************\n",
      "y shape: (940,)\n"
     ]
    }
   ],
   "source": [
    "print(\"X shape:\", X_train_os.shape)\n",
    "print(\"**\"*54)\n",
    "print(\"y shape:\", y_train_os.shape)"
   ]
  },
  {
   "cell_type": "code",
   "execution_count": 54,
   "metadata": {},
   "outputs": [],
   "source": [
    "#use train test split function\n",
    "# np.random.seed(0) makes the random numbers predictable\n",
    "np.random.seed(0)\n",
    "x_train, x_test, y_train, y_test = train_test_split(X_train_os,y_train_os, test_size = 0.3, random_state = 100)"
   ]
  },
  {
   "cell_type": "code",
   "execution_count": 55,
   "metadata": {},
   "outputs": [
    {
     "name": "stdout",
     "output_type": "stream",
     "text": [
      "X Train: (658, 1238)\n",
      "Y Train: (658,)\n",
      "************************************************************************************************************\n",
      "X Test: (282, 1238)\n",
      "Y Test: (282,)\n"
     ]
    }
   ],
   "source": [
    "print(\"X Train:\", x_train.shape)\n",
    "print(\"Y Train:\", y_train.shape)\n",
    "print(\"**\"*54)\n",
    "print(\"X Test:\", x_test.shape)\n",
    "print(\"Y Test:\", y_test.shape)"
   ]
  },
  {
   "cell_type": "markdown",
   "metadata": {},
   "source": [
    "<h3 style='color:#15284C;'>Train and Evaluate Model</h3>"
   ]
  },
  {
   "cell_type": "code",
   "execution_count": 56,
   "metadata": {},
   "outputs": [
    {
     "data": {
      "text/plain": [
       "SVC()"
      ]
     },
     "execution_count": 56,
     "metadata": {},
     "output_type": "execute_result"
    }
   ],
   "source": [
    "#call for SVC method \n",
    "from sklearn.svm import SVC\n",
    "model = SVC()\n",
    "model.fit(x_train, y_train)"
   ]
  },
  {
   "cell_type": "code",
   "execution_count": 57,
   "metadata": {},
   "outputs": [
    {
     "data": {
      "text/plain": [
       "0.975177304964539"
      ]
     },
     "execution_count": 57,
     "metadata": {},
     "output_type": "execute_result"
    }
   ],
   "source": [
    "#get the score by METHOD 1\n",
    "model.score(x_test, y_test)"
   ]
  },
  {
   "cell_type": "code",
   "execution_count": 58,
   "metadata": {},
   "outputs": [
    {
     "data": {
      "text/plain": [
       "array([0, 0, 0, 0, 0, 1, 1, 0, 1, 0])"
      ]
     },
     "execution_count": 58,
     "metadata": {},
     "output_type": "execute_result"
    }
   ],
   "source": [
    "#let's predict the test set\n",
    "y_pred = model.predict(x_test)\n",
    "y_pred[0:10]"
   ]
  },
  {
   "cell_type": "code",
   "execution_count": 59,
   "metadata": {},
   "outputs": [
    {
     "data": {
      "text/html": [
       "<div>\n",
       "<style scoped>\n",
       "    .dataframe tbody tr th:only-of-type {\n",
       "        vertical-align: middle;\n",
       "    }\n",
       "\n",
       "    .dataframe tbody tr th {\n",
       "        vertical-align: top;\n",
       "    }\n",
       "\n",
       "    .dataframe thead th {\n",
       "        text-align: right;\n",
       "    }\n",
       "</style>\n",
       "<table border=\"1\" class=\"dataframe\">\n",
       "  <thead>\n",
       "    <tr style=\"text-align: right;\">\n",
       "      <th></th>\n",
       "      <th>predicted_values</th>\n",
       "      <th>actual_values</th>\n",
       "    </tr>\n",
       "  </thead>\n",
       "  <tbody>\n",
       "    <tr>\n",
       "      <th>0</th>\n",
       "      <td>0</td>\n",
       "      <td>0</td>\n",
       "    </tr>\n",
       "    <tr>\n",
       "      <th>1</th>\n",
       "      <td>0</td>\n",
       "      <td>0</td>\n",
       "    </tr>\n",
       "    <tr>\n",
       "      <th>2</th>\n",
       "      <td>0</td>\n",
       "      <td>0</td>\n",
       "    </tr>\n",
       "    <tr>\n",
       "      <th>3</th>\n",
       "      <td>0</td>\n",
       "      <td>0</td>\n",
       "    </tr>\n",
       "    <tr>\n",
       "      <th>4</th>\n",
       "      <td>0</td>\n",
       "      <td>0</td>\n",
       "    </tr>\n",
       "  </tbody>\n",
       "</table>\n",
       "</div>"
      ],
      "text/plain": [
       "   predicted_values  actual_values\n",
       "0                 0              0\n",
       "1                 0              0\n",
       "2                 0              0\n",
       "3                 0              0\n",
       "4                 0              0"
      ]
     },
     "execution_count": 59,
     "metadata": {},
     "output_type": "execute_result"
    }
   ],
   "source": [
    "#set it as dataframe\n",
    "prediction_values = pd.DataFrame(list(zip(y_pred, y_test)), columns=['predicted_values', \n",
    "                                                                           'actual_values'])\n",
    "prediction_values.head()"
   ]
  },
  {
   "cell_type": "code",
   "execution_count": 60,
   "metadata": {},
   "outputs": [
    {
     "data": {
      "image/png": "[encoded data removed]",
      "text/plain": [
       "<Figure size 1080x360 with 1 Axes>"
      ]
     },
     "metadata": {
      "needs_background": "light"
     },
     "output_type": "display_data"
    },
    {
     "name": "stdout",
     "output_type": "stream",
     "text": [
      "   predicted_values  actual_values\n",
      "0                 0              0\n",
      "1                 0              0\n",
      "2                 0              0\n",
      "3                 0              0\n",
      "4                 0              0\n"
     ]
    }
   ],
   "source": [
    "plt.figure(figsize=(15, 5))\n",
    "\n",
    "plt.plot(y_test, label='actual values', color='b')\n",
    "plt.plot(prediction_values['predicted_values'].values, label='predicted values', color='#F91AAF')\n",
    "\n",
    "plt.title('Sentiment Analysis',fontweight='bold', color='#065164')\n",
    "plt.xlabel('Test Data')\n",
    "plt.legend(loc=1)\n",
    "plt.show()\n",
    "print(prediction_values.head())"
   ]
  },
  {
   "cell_type": "code",
   "execution_count": 61,
   "metadata": {},
   "outputs": [
    {
     "name": "stdout",
     "output_type": "stream",
     "text": [
      "\n",
      "Support Vector Machine Classifier: 0.975177304964539\n",
      "\n"
     ]
    }
   ],
   "source": [
    "#check accuracy\n",
    "from sklearn import metrics\n",
    "\n",
    "print()\n",
    "print(\"Support Vector Machine Classifier:\", metrics.accuracy_score(y_test, y_pred))\n",
    "print()"
   ]
  },
  {
   "cell_type": "code",
   "execution_count": 62,
   "metadata": {},
   "outputs": [
    {
     "name": "stdout",
     "output_type": "stream",
     "text": [
      "******************** Train Set - Score ********************\n",
      "Model Score: 1.0\n",
      "********************\n",
      "Model Score (%) : 100.0\n"
     ]
    }
   ],
   "source": [
    "#train set accuracy\n",
    "#Check train data score of model\n",
    "print(\"*\" * 20, \"Train Set - Score\",\"*\"*20)\n",
    "train_score = model.score(x_train, y_train)\n",
    "print(\"Model Score:\", train_score)\n",
    "print(\"**\" * 10)\n",
    "print(\"Model Score (%) :\", train_score * 100)"
   ]
  },
  {
   "cell_type": "code",
   "execution_count": 63,
   "metadata": {},
   "outputs": [
    {
     "name": "stdout",
     "output_type": "stream",
     "text": [
      "******************** Test Set - Score ********************\n",
      "Model Score: 0.975177304964539\n",
      "********************\n",
      "Model Score (%) : 97.51773049645391\n"
     ]
    }
   ],
   "source": [
    "#Check test data score of model\n",
    "print(\"*\" * 20, \"Test Set - Score\",\"*\"*20)\n",
    "test_score = model.score(x_test, y_test)\n",
    "print(\"Model Score:\", test_score)\n",
    "print(\"**\" * 10)\n",
    "print(\"Model Score (%) :\", test_score * 100)"
   ]
  },
  {
   "cell_type": "code",
   "execution_count": 64,
   "metadata": {},
   "outputs": [
    {
     "name": "stdout",
     "output_type": "stream",
     "text": [
      "              precision    recall  f1-score   support\n",
      "\n",
      "           0       0.98      0.97      0.98       142\n",
      "           1       0.97      0.98      0.98       140\n",
      "\n",
      "    accuracy                           0.98       282\n",
      "   macro avg       0.98      0.98      0.98       282\n",
      "weighted avg       0.98      0.98      0.98       282\n",
      "\n"
     ]
    }
   ],
   "source": [
    "#METHOD 3\n",
    "from sklearn.metrics import confusion_matrix, precision_score, recall_score, f1_score, classification_report\n",
    "print(classification_report(y_test, y_pred))"
   ]
  },
  {
   "cell_type": "code",
   "execution_count": 65,
   "metadata": {},
   "outputs": [
    {
     "data": {
      "text/plain": [
       "<Figure size 1080x360 with 0 Axes>"
      ]
     },
     "metadata": {},
     "output_type": "display_data"
    },
    {
     "data": {
      "image/png": "[encoded data removed]",
      "text/plain": [
       "<Figure size 432x288 with 2 Axes>"
      ]
     },
     "metadata": {
      "needs_background": "light"
     },
     "output_type": "display_data"
    }
   ],
   "source": [
    "#plot_confusion_metrice\n",
    "from sklearn.metrics import plot_confusion_matrix\n",
    "\n",
    "plt.figure(figsize=(15,5))\n",
    "plot_confusion_matrix(model, x_train, y_train);\n",
    "plt.show()\n",
    "\n",
    "#our data is imBalance dataset"
   ]
  },
  {
   "cell_type": "code",
   "execution_count": 66,
   "metadata": {},
   "outputs": [
    {
     "data": {
      "text/plain": [
       "<Figure size 1080x360 with 0 Axes>"
      ]
     },
     "metadata": {},
     "output_type": "display_data"
    },
    {
     "data": {
      "image/png": "[encoded data removed]",
      "text/plain": [
       "<Figure size 432x288 with 2 Axes>"
      ]
     },
     "metadata": {
      "needs_background": "light"
     },
     "output_type": "display_data"
    }
   ],
   "source": [
    "plt.figure(figsize=(15,5))\n",
    "plot_confusion_matrix(model, x_test, y_test);\n",
    "plt.show()\n",
    "\n",
    "#our data is imBalance dataset"
   ]
  },
  {
   "cell_type": "code",
   "execution_count": 67,
   "metadata": {},
   "outputs": [
    {
     "data": {
      "image/png": "[encoded data removed]",
      "text/plain": [
       "<Figure size 432x288 with 2 Axes>"
      ]
     },
     "metadata": {
      "needs_background": "light"
     },
     "output_type": "display_data"
    }
   ],
   "source": [
    "data = {'y_actual_values':    y_test,\n",
    "        'y_predicted_values': y_pred}\n",
    "\n",
    "df = pd.DataFrame(data, columns=['y_actual_values','y_predicted_values'])\n",
    "confusion_matrix = pd.crosstab(df['y_actual_values'], df['y_actual_values'], rownames=['Actual Values'], \n",
    "                               colnames=['Predicted Values'])\n",
    "sns.heatmap(confusion_matrix, annot=True,cmap='Blues', fmt='.4g')\n",
    "plt.show()"
   ]
  },
  {
   "cell_type": "code",
   "execution_count": 68,
   "metadata": {},
   "outputs": [
    {
     "name": "stdout",
     "output_type": "stream",
     "text": [
      "[learning_curve] Training set sizes: [  7  22  37  53  68  83  98 113 129 144 159 174 189 205 220 235 250 265\n",
      " 281 296 311 326 341 356 372 387 402 417 432 448 463 478 493 508 524 539\n",
      " 554 569 584 600 615 630 645 660 676 691 706 721 736 752]\n"
     ]
    },
    {
     "name": "stderr",
     "output_type": "stream",
     "text": [
      "[Parallel(n_jobs=-1)]: Using backend LokyBackend with 8 concurrent workers.\n",
      "[Parallel(n_jobs=-1)]: Done 250 out of 250 | elapsed:   20.2s finished\n"
     ]
    }
   ],
   "source": [
    "#learning curve \n",
    "from sklearn.model_selection import learning_curve\n",
    "#use learning curve\n",
    "train_size, train_scores, test_scores = learning_curve(model, X_train_os, y_train_os, cv=5,# scoring='score', \n",
    "              n_jobs=-1, train_sizes=np.linspace(0.01, 1,50), verbose=1)"
   ]
  },
  {
   "cell_type": "code",
   "execution_count": 69,
   "metadata": {},
   "outputs": [],
   "source": [
    "#train_mean\n",
    "train_mean = np.mean(train_scores, axis=1)\n",
    "#train stadard deviation\n",
    "train_std = np.std(train_scores, axis=1)\n",
    "#test mean\n",
    "test_mean = np.mean(test_scores, axis=1)\n",
    "#test standard deviation\n",
    "test_std = np.mean(test_scores, axis=1)"
   ]
  },
  {
   "cell_type": "code",
   "execution_count": 70,
   "metadata": {},
   "outputs": [
    {
     "data": {
      "image/png": "[encoded data removed]",
      "text/plain": [
       "<Figure size 1080x360 with 1 Axes>"
      ]
     },
     "metadata": {
      "needs_background": "light"
     },
     "output_type": "display_data"
    }
   ],
   "source": [
    "#plot learning curve\n",
    "plt.figure(figsize=(15,5))\n",
    "plt.plot(train_size, train_mean, label='Training Score', color='b')\n",
    "plt.plot(train_size, test_mean, label='Testing Score', color='r')\n",
    "\n",
    "#plt.fill_between(train_size, train_mean-train_std, train_mean+train_std, color='#DDDDDD')\n",
    "#plt.fill_between(train_size, test_mean-test_std, test_mean+test_std, color='#DDDDDD')\n",
    "\n",
    "plt.title(\"Learning Curve\", color='#065164',fontsize='15', fontweight='bold')\n",
    "plt.legend()\n",
    "plt.xlabel(\"Traing Size\")\n",
    "plt.ylabel(\"Accuracy Scores\")\n",
    "plt.show()"
   ]
  },
  {
   "cell_type": "code",
   "execution_count": 71,
   "metadata": {},
   "outputs": [
    {
     "data": {
      "text/plain": [
       "array([0, 0, 1, 0, 0])"
      ]
     },
     "execution_count": 71,
     "metadata": {},
     "output_type": "execute_result"
    }
   ],
   "source": [
    "testing = x_test[80:85]\n",
    "result = model.predict(testing)\n",
    "result"
   ]
  }
 ],
 "metadata": {
  "kernelspec": {
   "display_name": "Python 3",
   "language": "python",
   "name": "python3"
  },
  "language_info": {
   "codemirror_mode": {
    "name": "ipython",
    "version": 3
   },
   "file_extension": ".py",
   "mimetype": "text/x-python",
   "name": "python",
   "nbconvert_exporter": "python",
   "pygments_lexer": "ipython3",
   "version": "3.8.5"
  }
 },
 "nbformat": 4,
 "nbformat_minor": 4
}
